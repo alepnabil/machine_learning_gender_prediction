{
 "cells": [
  {
   "cell_type": "markdown",
   "id": "fc0b6435",
   "metadata": {},
   "source": [
    "# Importing data exploration librabries"
   ]
  },
  {
   "cell_type": "code",
   "execution_count": 3,
   "id": "c841b2c8",
   "metadata": {},
   "outputs": [],
   "source": [
    "import pandas as pd\n",
    "import numpy as np\n",
    "import matplotlib.pyplot as plt\n",
    "import seaborn as sns\n",
    "import warnings\n",
    "warnings.filterwarnings(\"ignore\")"
   ]
  },
  {
   "cell_type": "markdown",
   "id": "bbffdd80",
   "metadata": {},
   "source": [
    "# Importing both train set from 2 types of data set"
   ]
  },
  {
   "cell_type": "code",
   "execution_count": 241,
   "id": "64a459f8",
   "metadata": {},
   "outputs": [],
   "source": [
    "measurement_dataset=pd.read_csv(\"gender_classification_train_set.csv\",quotechar=',',sep=r',')"
   ]
  },
  {
   "cell_type": "code",
   "execution_count": 242,
   "id": "b744fd2a",
   "metadata": {},
   "outputs": [],
   "source": [
    "preferences_dataset=pd.read_csv(\"train (1).csv\")"
   ]
  },
  {
   "cell_type": "markdown",
   "id": "baf09cad",
   "metadata": {},
   "source": [
    "# First, let's explore the measurement data set then we'll explore the preferences data set. "
   ]
  },
  {
   "cell_type": "code",
   "execution_count": 224,
   "id": "9bb8d65a",
   "metadata": {},
   "outputs": [
    {
     "data": {
      "text/html": [
       "<div>\n",
       "<style scoped>\n",
       "    .dataframe tbody tr th:only-of-type {\n",
       "        vertical-align: middle;\n",
       "    }\n",
       "\n",
       "    .dataframe tbody tr th {\n",
       "        vertical-align: top;\n",
       "    }\n",
       "\n",
       "    .dataframe thead th {\n",
       "        text-align: right;\n",
       "    }\n",
       "</style>\n",
       "<table border=\"1\" class=\"dataframe\">\n",
       "  <thead>\n",
       "    <tr style=\"text-align: right;\">\n",
       "      <th></th>\n",
       "      <th>long_hair</th>\n",
       "      <th>forehead_width_cm</th>\n",
       "      <th>forehead_height_cm</th>\n",
       "      <th>nose_wide</th>\n",
       "      <th>nose_long</th>\n",
       "      <th>lips_thin</th>\n",
       "      <th>distance_nose_to_lip_long</th>\n",
       "      <th>gender</th>\n",
       "      <th>Unnamed: 8</th>\n",
       "    </tr>\n",
       "  </thead>\n",
       "  <tbody>\n",
       "    <tr>\n",
       "      <th>0</th>\n",
       "      <td>1</td>\n",
       "      <td>11.8</td>\n",
       "      <td>6.1</td>\n",
       "      <td>1</td>\n",
       "      <td>0</td>\n",
       "      <td>1</td>\n",
       "      <td>1</td>\n",
       "      <td>Male</td>\n",
       "      <td>NaN</td>\n",
       "    </tr>\n",
       "    <tr>\n",
       "      <th>1</th>\n",
       "      <td>0</td>\n",
       "      <td>14.0</td>\n",
       "      <td>5.4</td>\n",
       "      <td>0</td>\n",
       "      <td>0</td>\n",
       "      <td>1</td>\n",
       "      <td>0</td>\n",
       "      <td>Female</td>\n",
       "      <td>NaN</td>\n",
       "    </tr>\n",
       "    <tr>\n",
       "      <th>2</th>\n",
       "      <td>0</td>\n",
       "      <td>11.8</td>\n",
       "      <td>6.3</td>\n",
       "      <td>1</td>\n",
       "      <td>1</td>\n",
       "      <td>1</td>\n",
       "      <td>1</td>\n",
       "      <td>Male</td>\n",
       "      <td>NaN</td>\n",
       "    </tr>\n",
       "    <tr>\n",
       "      <th>3</th>\n",
       "      <td>0</td>\n",
       "      <td>14.4</td>\n",
       "      <td>6.1</td>\n",
       "      <td>0</td>\n",
       "      <td>1</td>\n",
       "      <td>1</td>\n",
       "      <td>1</td>\n",
       "      <td>Male</td>\n",
       "      <td>NaN</td>\n",
       "    </tr>\n",
       "    <tr>\n",
       "      <th>4</th>\n",
       "      <td>1</td>\n",
       "      <td>13.5</td>\n",
       "      <td>5.9</td>\n",
       "      <td>0</td>\n",
       "      <td>0</td>\n",
       "      <td>0</td>\n",
       "      <td>0</td>\n",
       "      <td>Female</td>\n",
       "      <td>NaN</td>\n",
       "    </tr>\n",
       "  </tbody>\n",
       "</table>\n",
       "</div>"
      ],
      "text/plain": [
       "   long_hair  forehead_width_cm  forehead_height_cm  nose_wide  nose_long  \\\n",
       "0          1               11.8                 6.1          1          0   \n",
       "1          0               14.0                 5.4          0          0   \n",
       "2          0               11.8                 6.3          1          1   \n",
       "3          0               14.4                 6.1          0          1   \n",
       "4          1               13.5                 5.9          0          0   \n",
       "\n",
       "   lips_thin  distance_nose_to_lip_long  gender  Unnamed: 8  \n",
       "0          1                          1    Male         NaN  \n",
       "1          1                          0  Female         NaN  \n",
       "2          1                          1    Male         NaN  \n",
       "3          1                          1    Male         NaN  \n",
       "4          0                          0  Female         NaN  "
      ]
     },
     "execution_count": 224,
     "metadata": {},
     "output_type": "execute_result"
    }
   ],
   "source": [
    "measurement_dataset.head()"
   ]
  },
  {
   "cell_type": "markdown",
   "id": "2d833de8",
   "metadata": {},
   "source": [
    "# Only forehead width and height is measured.But, we do not know what can be defined as 'long hair' or 'wide nose'. Thus, we leave that to the user's perception about themselves."
   ]
  },
  {
   "cell_type": "code",
   "execution_count": 225,
   "id": "f8379e02",
   "metadata": {},
   "outputs": [
    {
     "data": {
      "text/html": [
       "<div>\n",
       "<style scoped>\n",
       "    .dataframe tbody tr th:only-of-type {\n",
       "        vertical-align: middle;\n",
       "    }\n",
       "\n",
       "    .dataframe tbody tr th {\n",
       "        vertical-align: top;\n",
       "    }\n",
       "\n",
       "    .dataframe thead th {\n",
       "        text-align: right;\n",
       "    }\n",
       "</style>\n",
       "<table border=\"1\" class=\"dataframe\">\n",
       "  <thead>\n",
       "    <tr style=\"text-align: right;\">\n",
       "      <th></th>\n",
       "      <th>long_hair</th>\n",
       "      <th>forehead_width_cm</th>\n",
       "      <th>forehead_height_cm</th>\n",
       "      <th>nose_wide</th>\n",
       "      <th>nose_long</th>\n",
       "      <th>lips_thin</th>\n",
       "      <th>distance_nose_to_lip_long</th>\n",
       "      <th>Unnamed: 8</th>\n",
       "    </tr>\n",
       "  </thead>\n",
       "  <tbody>\n",
       "    <tr>\n",
       "      <th>count</th>\n",
       "      <td>4001.000000</td>\n",
       "      <td>4001.000000</td>\n",
       "      <td>4001.000000</td>\n",
       "      <td>4001.000000</td>\n",
       "      <td>4001.000000</td>\n",
       "      <td>4001.000000</td>\n",
       "      <td>4001.000000</td>\n",
       "      <td>0.0</td>\n",
       "    </tr>\n",
       "    <tr>\n",
       "      <th>mean</th>\n",
       "      <td>0.860785</td>\n",
       "      <td>13.178330</td>\n",
       "      <td>5.952837</td>\n",
       "      <td>0.499875</td>\n",
       "      <td>0.506873</td>\n",
       "      <td>0.497876</td>\n",
       "      <td>0.500375</td>\n",
       "      <td>NaN</td>\n",
       "    </tr>\n",
       "    <tr>\n",
       "      <th>std</th>\n",
       "      <td>0.346214</td>\n",
       "      <td>1.101809</td>\n",
       "      <td>0.543137</td>\n",
       "      <td>0.500062</td>\n",
       "      <td>0.500015</td>\n",
       "      <td>0.500058</td>\n",
       "      <td>0.500062</td>\n",
       "      <td>NaN</td>\n",
       "    </tr>\n",
       "    <tr>\n",
       "      <th>min</th>\n",
       "      <td>0.000000</td>\n",
       "      <td>11.400000</td>\n",
       "      <td>5.100000</td>\n",
       "      <td>0.000000</td>\n",
       "      <td>0.000000</td>\n",
       "      <td>0.000000</td>\n",
       "      <td>0.000000</td>\n",
       "      <td>NaN</td>\n",
       "    </tr>\n",
       "    <tr>\n",
       "      <th>25%</th>\n",
       "      <td>1.000000</td>\n",
       "      <td>12.200000</td>\n",
       "      <td>5.500000</td>\n",
       "      <td>0.000000</td>\n",
       "      <td>0.000000</td>\n",
       "      <td>0.000000</td>\n",
       "      <td>0.000000</td>\n",
       "      <td>NaN</td>\n",
       "    </tr>\n",
       "    <tr>\n",
       "      <th>50%</th>\n",
       "      <td>1.000000</td>\n",
       "      <td>13.100000</td>\n",
       "      <td>5.900000</td>\n",
       "      <td>0.000000</td>\n",
       "      <td>1.000000</td>\n",
       "      <td>0.000000</td>\n",
       "      <td>1.000000</td>\n",
       "      <td>NaN</td>\n",
       "    </tr>\n",
       "    <tr>\n",
       "      <th>75%</th>\n",
       "      <td>1.000000</td>\n",
       "      <td>14.000000</td>\n",
       "      <td>6.400000</td>\n",
       "      <td>1.000000</td>\n",
       "      <td>1.000000</td>\n",
       "      <td>1.000000</td>\n",
       "      <td>1.000000</td>\n",
       "      <td>NaN</td>\n",
       "    </tr>\n",
       "    <tr>\n",
       "      <th>max</th>\n",
       "      <td>1.000000</td>\n",
       "      <td>15.500000</td>\n",
       "      <td>7.100000</td>\n",
       "      <td>1.000000</td>\n",
       "      <td>1.000000</td>\n",
       "      <td>1.000000</td>\n",
       "      <td>1.000000</td>\n",
       "      <td>NaN</td>\n",
       "    </tr>\n",
       "  </tbody>\n",
       "</table>\n",
       "</div>"
      ],
      "text/plain": [
       "         long_hair  forehead_width_cm  forehead_height_cm    nose_wide  \\\n",
       "count  4001.000000        4001.000000         4001.000000  4001.000000   \n",
       "mean      0.860785          13.178330            5.952837     0.499875   \n",
       "std       0.346214           1.101809            0.543137     0.500062   \n",
       "min       0.000000          11.400000            5.100000     0.000000   \n",
       "25%       1.000000          12.200000            5.500000     0.000000   \n",
       "50%       1.000000          13.100000            5.900000     0.000000   \n",
       "75%       1.000000          14.000000            6.400000     1.000000   \n",
       "max       1.000000          15.500000            7.100000     1.000000   \n",
       "\n",
       "         nose_long    lips_thin  distance_nose_to_lip_long  Unnamed: 8  \n",
       "count  4001.000000  4001.000000                4001.000000         0.0  \n",
       "mean      0.506873     0.497876                   0.500375         NaN  \n",
       "std       0.500015     0.500058                   0.500062         NaN  \n",
       "min       0.000000     0.000000                   0.000000         NaN  \n",
       "25%       0.000000     0.000000                   0.000000         NaN  \n",
       "50%       1.000000     0.000000                   1.000000         NaN  \n",
       "75%       1.000000     1.000000                   1.000000         NaN  \n",
       "max       1.000000     1.000000                   1.000000         NaN  "
      ]
     },
     "execution_count": 225,
     "metadata": {},
     "output_type": "execute_result"
    }
   ],
   "source": [
    "measurement_dataset.describe()"
   ]
  },
  {
   "cell_type": "code",
   "execution_count": 226,
   "id": "9f2cbca7",
   "metadata": {},
   "outputs": [
    {
     "name": "stdout",
     "output_type": "stream",
     "text": [
      "<class 'pandas.core.frame.DataFrame'>\n",
      "RangeIndex: 4001 entries, 0 to 4000\n",
      "Data columns (total 9 columns):\n",
      " #   Column                     Non-Null Count  Dtype  \n",
      "---  ------                     --------------  -----  \n",
      " 0   long_hair                  4001 non-null   int64  \n",
      " 1   forehead_width_cm          4001 non-null   float64\n",
      " 2   forehead_height_cm         4001 non-null   float64\n",
      " 3   nose_wide                  4001 non-null   int64  \n",
      " 4   nose_long                  4001 non-null   int64  \n",
      " 5   lips_thin                  4001 non-null   int64  \n",
      " 6   distance_nose_to_lip_long  4001 non-null   int64  \n",
      " 7   gender                     4001 non-null   object \n",
      " 8   Unnamed: 8                 0 non-null      float64\n",
      "dtypes: float64(3), int64(5), object(1)\n",
      "memory usage: 281.4+ KB\n"
     ]
    }
   ],
   "source": [
    "measurement_dataset.info()"
   ]
  },
  {
   "cell_type": "code",
   "execution_count": 227,
   "id": "1a84b4c0",
   "metadata": {},
   "outputs": [
    {
     "data": {
      "text/plain": [
       "long_hair                       0\n",
       "forehead_width_cm               0\n",
       "forehead_height_cm              0\n",
       "nose_wide                       0\n",
       "nose_long                       0\n",
       "lips_thin                       0\n",
       "distance_nose_to_lip_long       0\n",
       "gender                          0\n",
       "Unnamed: 8                   4001\n",
       "dtype: int64"
      ]
     },
     "execution_count": 227,
     "metadata": {},
     "output_type": "execute_result"
    }
   ],
   "source": [
    "measurement_dataset.isnull().sum()"
   ]
  },
  {
   "cell_type": "markdown",
   "id": "332f5055",
   "metadata": {},
   "source": [
    "# EDA"
   ]
  },
  {
   "cell_type": "code",
   "execution_count": 231,
   "id": "46f8a644",
   "metadata": {},
   "outputs": [
    {
     "data": {
      "text/plain": [
       "<bound method IndexOpsMixin.value_counts of 0         Male\n",
       "1       Female\n",
       "2         Male\n",
       "3         Male\n",
       "4       Female\n",
       "         ...  \n",
       "3996    Female\n",
       "3997    Female\n",
       "3998      Male\n",
       "3999    Female\n",
       "4000      Male\n",
       "Name: gender, Length: 4001, dtype: object>"
      ]
     },
     "execution_count": 231,
     "metadata": {},
     "output_type": "execute_result"
    }
   ],
   "source": [
    "measurement_dataset['gender'].value_counts"
   ]
  },
  {
   "cell_type": "code",
   "execution_count": 232,
   "id": "a5cfb556",
   "metadata": {},
   "outputs": [
    {
     "data": {
      "image/png": "[encoded data removed]",
      "text/plain": [
       "<Figure size 432x288 with 1 Axes>"
      ]
     },
     "metadata": {
      "needs_background": "light"
     },
     "output_type": "display_data"
    }
   ],
   "source": [
    "ax=sns.countplot(measurement_dataset['gender'])\n",
    "for p in ax.patches:\n",
    "        ax.annotate('{:.1f}'.format(p.get_height()), (p.get_x()+0.1, p.get_height()+50))"
   ]
  },
  {
   "cell_type": "code",
   "execution_count": 235,
   "id": "55094020",
   "metadata": {},
   "outputs": [
    {
     "data": {
      "image/png": "[encoded data removed]",
      "text/plain": [
       "<Figure size 432x360 with 1 Axes>"
      ]
     },
     "metadata": {
      "needs_background": "light"
     },
     "output_type": "display_data"
    }
   ],
   "source": [
    "plt.figure(figsize=(6,5))\n",
    "ax=sns.countplot(measurement_dataset['long_hair'],hue=measurement_dataset['gender'],palette=\"Set2\")\n",
    "ax.set_xlabel(['No','Yes'])\n",
    "for p in ax.patches:\n",
    "        ax.annotate('{:.1f}'.format(p.get_height()), (p.get_x()+0.1, p.get_height()+50))"
   ]
  },
  {
   "cell_type": "markdown",
   "id": "d498b501",
   "metadata": {},
   "source": [
    "Men tend to have wider forehead."
   ]
  },
  {
   "cell_type": "code",
   "execution_count": 236,
   "id": "616d4f3a",
   "metadata": {},
   "outputs": [
    {
     "data": {
      "text/plain": [
       "<matplotlib.legend.Legend at 0x2179a5fff70>"
      ]
     },
     "execution_count": 236,
     "metadata": {},
     "output_type": "execute_result"
    },
    {
     "data": {
      "image/png": "[encoded data removed]",
      "text/plain": [
       "<Figure size 576x288 with 1 Axes>"
      ]
     },
     "metadata": {
      "needs_background": "light"
     },
     "output_type": "display_data"
    }
   ],
   "source": [
    "g=sns.FacetGrid(data=measurement_dataset,hue='gender',size=4,aspect=2,palette='cool')\n",
    "g.map(plt.hist,'forehead_width_cm',histtype='barstacked',alpha=0.5)\n",
    "plt.legend()"
   ]
  },
  {
   "cell_type": "markdown",
   "id": "dfbc05f6",
   "metadata": {},
   "source": [
    "Thus, men have a bigger size of forehead generally"
   ]
  },
  {
   "cell_type": "code",
   "execution_count": 237,
   "id": "02a7f737",
   "metadata": {},
   "outputs": [
    {
     "data": {
      "text/plain": [
       "<matplotlib.legend.Legend at 0x21795142ee0>"
      ]
     },
     "execution_count": 237,
     "metadata": {},
     "output_type": "execute_result"
    },
    {
     "data": {
      "image/png": "[encoded data removed]",
      "text/plain": [
       "<Figure size 576x288 with 1 Axes>"
      ]
     },
     "metadata": {
      "needs_background": "light"
     },
     "output_type": "display_data"
    }
   ],
   "source": [
    "g=sns.FacetGrid(data=measurement_dataset,hue='gender',size=4,aspect=2,palette='flare')\n",
    "g.map(plt.hist,'forehead_height_cm',histtype='barstacked',alpha=0.7)\n",
    "plt.legend()"
   ]
  },
  {
   "cell_type": "markdown",
   "id": "7542c314",
   "metadata": {},
   "source": [
    "Here, we can also conclude men tend to have a bigger nose size in general"
   ]
  },
  {
   "cell_type": "code",
   "execution_count": 238,
   "id": "44c34048",
   "metadata": {},
   "outputs": [
    {
     "data": {
      "image/png": "[encoded data removed]",
      "text/plain": [
       "<Figure size 432x288 with 1 Axes>"
      ]
     },
     "metadata": {
      "needs_background": "light"
     },
     "output_type": "display_data"
    }
   ],
   "source": [
    "ax=sns.countplot(measurement_dataset['nose_wide'],hue=measurement_dataset['gender'],palette=\"Paired\")\n",
    "ax.set_xlabel(['No','Yes'])\n",
    "for p in ax.patches:\n",
    "        ax.annotate('{:.1f}'.format(p.get_height()), (p.get_x()+0.1, p.get_height()+50))\n"
   ]
  },
  {
   "cell_type": "code",
   "execution_count": 179,
   "id": "838836d4",
   "metadata": {},
   "outputs": [
    {
     "data": {
      "image/png": "[encoded data removed]",
      "text/plain": [
       "<Figure size 432x288 with 1 Axes>"
      ]
     },
     "metadata": {
      "needs_background": "light"
     },
     "output_type": "display_data"
    }
   ],
   "source": [
    "ax=sns.countplot(measurement_dataset['nose_long'],hue=measurement_dataset['gender'],palette=\"rocket\")\n",
    "ax.set_xlabel(['No','Yes'])\n",
    "for p in ax.patches:\n",
    "        ax.annotate('{:.1f}'.format(p.get_height()), (p.get_x()+0.1, p.get_height()+50))"
   ]
  },
  {
   "cell_type": "markdown",
   "id": "d6b70dbc",
   "metadata": {},
   "source": [
    "Women tend to have thicker lips"
   ]
  },
  {
   "cell_type": "code",
   "execution_count": 239,
   "id": "9b2d25b1",
   "metadata": {},
   "outputs": [
    {
     "data": {
      "image/png": "[encoded data removed]",
      "text/plain": [
       "<Figure size 432x288 with 1 Axes>"
      ]
     },
     "metadata": {
      "needs_background": "light"
     },
     "output_type": "display_data"
    }
   ],
   "source": [
    "ax=sns.countplot(measurement_dataset['lips_thin'],hue=measurement_dataset['gender'],palette=\"mako\")\n",
    "ax.set_xlabel(['No','Yes'])\n",
    "for p in ax.patches:\n",
    "        ax.annotate('{:.1f}'.format(p.get_height()), (p.get_x()+0.1, p.get_height()+50))"
   ]
  },
  {
   "cell_type": "markdown",
   "id": "2eef5f0f",
   "metadata": {},
   "source": [
    "Women have shorter distance between their nose and lips"
   ]
  },
  {
   "cell_type": "code",
   "execution_count": 240,
   "id": "6da1f7c8",
   "metadata": {},
   "outputs": [
    {
     "data": {
      "image/png": "[encoded data removed]",
      "text/plain": [
       "<Figure size 432x288 with 1 Axes>"
      ]
     },
     "metadata": {
      "needs_background": "light"
     },
     "output_type": "display_data"
    }
   ],
   "source": [
    "ax=sns.countplot(measurement_dataset['distance_nose_to_lip_long'],hue=measurement_dataset['gender'],palette=\"viridis\")\n",
    "ax.set_xlabel(['No','Yes'])\n",
    "for p in ax.patches:\n",
    "        ax.annotate('{:.1f}'.format(p.get_height()), (p.get_x()+0.1, p.get_height()+50))"
   ]
  },
  {
   "cell_type": "markdown",
   "id": "db19f6b9",
   "metadata": {},
   "source": [
    "# Second data set\n"
   ]
  },
  {
   "cell_type": "code",
   "execution_count": 354,
   "id": "b08a2566",
   "metadata": {},
   "outputs": [],
   "source": [
    "preferences_dataset.drop('Favorite Beverage',axis=1,inplace=True)"
   ]
  },
  {
   "cell_type": "code",
   "execution_count": 355,
   "id": "95e6f713",
   "metadata": {},
   "outputs": [
    {
     "data": {
      "text/html": [
       "<div>\n",
       "<style scoped>\n",
       "    .dataframe tbody tr th:only-of-type {\n",
       "        vertical-align: middle;\n",
       "    }\n",
       "\n",
       "    .dataframe tbody tr th {\n",
       "        vertical-align: top;\n",
       "    }\n",
       "\n",
       "    .dataframe thead th {\n",
       "        text-align: right;\n",
       "    }\n",
       "</style>\n",
       "<table border=\"1\" class=\"dataframe\">\n",
       "  <thead>\n",
       "    <tr style=\"text-align: right;\">\n",
       "      <th></th>\n",
       "      <th>ID</th>\n",
       "      <th>Favorite Color</th>\n",
       "      <th>Favorite Music Genre</th>\n",
       "      <th>Favorite Soft Drink</th>\n",
       "      <th>Gender</th>\n",
       "    </tr>\n",
       "  </thead>\n",
       "  <tbody>\n",
       "    <tr>\n",
       "      <th>0</th>\n",
       "      <td>1</td>\n",
       "      <td>Neutral</td>\n",
       "      <td>Hip hop</td>\n",
       "      <td>Coca Cola/Pepsi</td>\n",
       "      <td>F</td>\n",
       "    </tr>\n",
       "    <tr>\n",
       "      <th>1</th>\n",
       "      <td>2</td>\n",
       "      <td>Warm</td>\n",
       "      <td>Rock</td>\n",
       "      <td>Coca Cola/Pepsi</td>\n",
       "      <td>F</td>\n",
       "    </tr>\n",
       "    <tr>\n",
       "      <th>2</th>\n",
       "      <td>3</td>\n",
       "      <td>Warm</td>\n",
       "      <td>Folk/Traditional</td>\n",
       "      <td>Fanta</td>\n",
       "      <td>F</td>\n",
       "    </tr>\n",
       "    <tr>\n",
       "      <th>3</th>\n",
       "      <td>4</td>\n",
       "      <td>Cool</td>\n",
       "      <td>Rock</td>\n",
       "      <td>Coca Cola/Pepsi</td>\n",
       "      <td>F</td>\n",
       "    </tr>\n",
       "    <tr>\n",
       "      <th>4</th>\n",
       "      <td>5</td>\n",
       "      <td>Warm</td>\n",
       "      <td>Jazz/Blues</td>\n",
       "      <td>Fanta</td>\n",
       "      <td>F</td>\n",
       "    </tr>\n",
       "    <tr>\n",
       "      <th>5</th>\n",
       "      <td>6</td>\n",
       "      <td>Cool</td>\n",
       "      <td>Pop</td>\n",
       "      <td>Coca Cola/Pepsi</td>\n",
       "      <td>F</td>\n",
       "    </tr>\n",
       "    <tr>\n",
       "      <th>6</th>\n",
       "      <td>7</td>\n",
       "      <td>Warm</td>\n",
       "      <td>Pop</td>\n",
       "      <td>Fanta</td>\n",
       "      <td>F</td>\n",
       "    </tr>\n",
       "    <tr>\n",
       "      <th>7</th>\n",
       "      <td>8</td>\n",
       "      <td>Warm</td>\n",
       "      <td>Rock</td>\n",
       "      <td>7UP/Sprite</td>\n",
       "      <td>F</td>\n",
       "    </tr>\n",
       "    <tr>\n",
       "      <th>8</th>\n",
       "      <td>9</td>\n",
       "      <td>Neutral</td>\n",
       "      <td>Pop</td>\n",
       "      <td>Coca Cola/Pepsi</td>\n",
       "      <td>F</td>\n",
       "    </tr>\n",
       "    <tr>\n",
       "      <th>9</th>\n",
       "      <td>10</td>\n",
       "      <td>Warm</td>\n",
       "      <td>Pop</td>\n",
       "      <td>7UP/Sprite</td>\n",
       "      <td>F</td>\n",
       "    </tr>\n",
       "  </tbody>\n",
       "</table>\n",
       "</div>"
      ],
      "text/plain": [
       "   ID Favorite Color Favorite Music Genre Favorite Soft Drink Gender\n",
       "0   1        Neutral              Hip hop     Coca Cola/Pepsi      F\n",
       "1   2           Warm                 Rock     Coca Cola/Pepsi      F\n",
       "2   3           Warm     Folk/Traditional               Fanta      F\n",
       "3   4           Cool                 Rock     Coca Cola/Pepsi      F\n",
       "4   5           Warm           Jazz/Blues               Fanta      F\n",
       "5   6           Cool                  Pop     Coca Cola/Pepsi      F\n",
       "6   7           Warm                  Pop               Fanta      F\n",
       "7   8           Warm                 Rock          7UP/Sprite      F\n",
       "8   9        Neutral                  Pop     Coca Cola/Pepsi      F\n",
       "9  10           Warm                  Pop          7UP/Sprite      F"
      ]
     },
     "execution_count": 355,
     "metadata": {},
     "output_type": "execute_result"
    }
   ],
   "source": [
    "preferences_dataset.head(10)"
   ]
  },
  {
   "cell_type": "code",
   "execution_count": 188,
   "id": "f1063849",
   "metadata": {},
   "outputs": [
    {
     "name": "stdout",
     "output_type": "stream",
     "text": [
      "<class 'pandas.core.frame.DataFrame'>\n",
      "RangeIndex: 55 entries, 0 to 54\n",
      "Data columns (total 6 columns):\n",
      " #   Column                Non-Null Count  Dtype \n",
      "---  ------                --------------  ----- \n",
      " 0   ID                    55 non-null     int64 \n",
      " 1   Favorite Color        55 non-null     object\n",
      " 2   Favorite Music Genre  55 non-null     object\n",
      " 3   Favorite Beverage     55 non-null     object\n",
      " 4   Favorite Soft Drink   55 non-null     object\n",
      " 5   Gender                55 non-null     object\n",
      "dtypes: int64(1), object(5)\n",
      "memory usage: 2.7+ KB\n"
     ]
    }
   ],
   "source": [
    "preferences_dataset.info()"
   ]
  },
  {
   "cell_type": "markdown",
   "id": "960d8ad6",
   "metadata": {},
   "source": [
    "Let's see the amount of men and women in this data set"
   ]
  },
  {
   "cell_type": "code",
   "execution_count": 356,
   "id": "1ae071fc",
   "metadata": {},
   "outputs": [
    {
     "data": {
      "text/plain": [
       "F    28\n",
       "M    27\n",
       "Name: Gender, dtype: int64"
      ]
     },
     "execution_count": 356,
     "metadata": {},
     "output_type": "execute_result"
    }
   ],
   "source": [
    "preferences_dataset['Gender'].value_counts()"
   ]
  },
  {
   "cell_type": "code",
   "execution_count": 357,
   "id": "0650ced3",
   "metadata": {},
   "outputs": [
    {
     "data": {
      "image/png": "[encoded data removed]",
      "text/plain": [
       "<Figure size 432x288 with 1 Axes>"
      ]
     },
     "metadata": {
      "needs_background": "light"
     },
     "output_type": "display_data"
    }
   ],
   "source": [
    "ax=sns.countplot(preferences_dataset['Gender'])\n",
    "for p in ax.patches:\n",
    "        ax.annotate('{:.1f}'.format(p.get_height()), (p.get_x()+0.1, p.get_height()+50))"
   ]
  },
  {
   "cell_type": "code",
   "execution_count": 198,
   "id": "6e2a297a",
   "metadata": {},
   "outputs": [
    {
     "data": {
      "text/plain": [
       "<matplotlib.legend.Legend at 0x217a48c94f0>"
      ]
     },
     "execution_count": 198,
     "metadata": {},
     "output_type": "execute_result"
    },
    {
     "data": {
      "image/png": "[encoded data removed]",
      "text/plain": [
       "<Figure size 432x288 with 1 Axes>"
      ]
     },
     "metadata": {
      "needs_background": "light"
     },
     "output_type": "display_data"
    }
   ],
   "source": [
    "sns.countplot(preferences_dataset['Favorite Color'],hue=preferences_dataset['Gender'],palette='rocket_r')"
   ]
  },
  {
   "cell_type": "markdown",
   "id": "29e6153c",
   "metadata": {},
   "source": [
    "Let's see the different types of music genre"
   ]
  },
  {
   "cell_type": "code",
   "execution_count": 201,
   "id": "01e65fd4",
   "metadata": {},
   "outputs": [
    {
     "data": {
      "text/plain": [
       "Pop                 15\n",
       "Rock                15\n",
       "Hip hop              6\n",
       "R&B and soul         6\n",
       "Electronic           5\n",
       "Jazz/Blues           4\n",
       "Folk/Traditional     4\n",
       "Name: Favorite Music Genre, dtype: int64"
      ]
     },
     "execution_count": 201,
     "metadata": {},
     "output_type": "execute_result"
    }
   ],
   "source": [
    "preferences_dataset['Favorite Music Genre'].value_counts()"
   ]
  },
  {
   "cell_type": "code",
   "execution_count": 213,
   "id": "84de30e8",
   "metadata": {},
   "outputs": [
    {
     "data": {
      "text/plain": [
       "<AxesSubplot:xlabel='Favorite Music Genre', ylabel='count'>"
      ]
     },
     "execution_count": 213,
     "metadata": {},
     "output_type": "execute_result"
    },
    {
     "data": {
      "image/png": "[encoded data removed]",
      "text/plain": [
       "<Figure size 1008x432 with 1 Axes>"
      ]
     },
     "metadata": {
      "needs_background": "light"
     },
     "output_type": "display_data"
    }
   ],
   "source": [
    "plt.figure(figsize=(14,6))\n",
    "sns.countplot(preferences_dataset['Favorite Music Genre'],hue=preferences_dataset['Gender'],palette='bone_r')"
   ]
  },
  {
   "cell_type": "code",
   "execution_count": 218,
   "id": "ea1cc05e",
   "metadata": {
    "scrolled": true
   },
   "outputs": [
    {
     "data": {
      "text/plain": [
       "<AxesSubplot:xlabel='Favorite Soft Drink', ylabel='count'>"
      ]
     },
     "execution_count": 218,
     "metadata": {},
     "output_type": "execute_result"
    },
    {
     "data": {
      "image/png": "[encoded data removed]",
      "text/plain": [
       "<Figure size 864x288 with 1 Axes>"
      ]
     },
     "metadata": {
      "needs_background": "light"
     },
     "output_type": "display_data"
    }
   ],
   "source": [
    "plt.figure(figsize=(12,4))\n",
    "sns.countplot(preferences_dataset['Favorite Soft Drink'],hue=preferences_dataset['Gender'],palette='Purples_r')"
   ]
  },
  {
   "cell_type": "markdown",
   "id": "a63ec549",
   "metadata": {},
   "source": [
    "# Importing our test set"
   ]
  },
  {
   "cell_type": "code",
   "execution_count": 17,
   "id": "d386de50",
   "metadata": {},
   "outputs": [],
   "source": [
    "test_set=pd.read_excel('gender_classification_test_set1.xlsx')"
   ]
  },
  {
   "cell_type": "code",
   "execution_count": 19,
   "id": "3093cfeb",
   "metadata": {},
   "outputs": [],
   "source": [
    "gender=pd.get_dummies(test_set['gender'],drop_first=True)"
   ]
  },
  {
   "cell_type": "code",
   "execution_count": 20,
   "id": "a74c4092",
   "metadata": {},
   "outputs": [],
   "source": [
    "test_set=pd.concat([test_set,gender],axis=1)"
   ]
  },
  {
   "cell_type": "code",
   "execution_count": 21,
   "id": "ebad12ce",
   "metadata": {},
   "outputs": [],
   "source": [
    "test_set.drop('gender',axis=1,inplace=True)"
   ]
  },
  {
   "cell_type": "code",
   "execution_count": 22,
   "id": "2844788b",
   "metadata": {},
   "outputs": [
    {
     "data": {
      "text/html": [
       "<div>\n",
       "<style scoped>\n",
       "    .dataframe tbody tr th:only-of-type {\n",
       "        vertical-align: middle;\n",
       "    }\n",
       "\n",
       "    .dataframe tbody tr th {\n",
       "        vertical-align: top;\n",
       "    }\n",
       "\n",
       "    .dataframe thead th {\n",
       "        text-align: right;\n",
       "    }\n",
       "</style>\n",
       "<table border=\"1\" class=\"dataframe\">\n",
       "  <thead>\n",
       "    <tr style=\"text-align: right;\">\n",
       "      <th></th>\n",
       "      <th>long_hair</th>\n",
       "      <th>forehead_width_cm</th>\n",
       "      <th>forehead_height_cm</th>\n",
       "      <th>nose_wide</th>\n",
       "      <th>nose_long</th>\n",
       "      <th>lips_thin</th>\n",
       "      <th>distance_nose_to_lip_long</th>\n",
       "      <th>Male</th>\n",
       "    </tr>\n",
       "  </thead>\n",
       "  <tbody>\n",
       "    <tr>\n",
       "      <th>0</th>\n",
       "      <td>1</td>\n",
       "      <td>13.9</td>\n",
       "      <td>6.0</td>\n",
       "      <td>1</td>\n",
       "      <td>1</td>\n",
       "      <td>0</td>\n",
       "      <td>1</td>\n",
       "      <td>1</td>\n",
       "    </tr>\n",
       "    <tr>\n",
       "      <th>1</th>\n",
       "      <td>1</td>\n",
       "      <td>13.6</td>\n",
       "      <td>6.2</td>\n",
       "      <td>1</td>\n",
       "      <td>0</td>\n",
       "      <td>1</td>\n",
       "      <td>1</td>\n",
       "      <td>1</td>\n",
       "    </tr>\n",
       "    <tr>\n",
       "      <th>2</th>\n",
       "      <td>1</td>\n",
       "      <td>11.6</td>\n",
       "      <td>5.1</td>\n",
       "      <td>0</td>\n",
       "      <td>1</td>\n",
       "      <td>0</td>\n",
       "      <td>0</td>\n",
       "      <td>0</td>\n",
       "    </tr>\n",
       "    <tr>\n",
       "      <th>3</th>\n",
       "      <td>1</td>\n",
       "      <td>12.4</td>\n",
       "      <td>5.8</td>\n",
       "      <td>1</td>\n",
       "      <td>1</td>\n",
       "      <td>1</td>\n",
       "      <td>1</td>\n",
       "      <td>1</td>\n",
       "    </tr>\n",
       "    <tr>\n",
       "      <th>4</th>\n",
       "      <td>1</td>\n",
       "      <td>12.9</td>\n",
       "      <td>6.4</td>\n",
       "      <td>0</td>\n",
       "      <td>0</td>\n",
       "      <td>0</td>\n",
       "      <td>0</td>\n",
       "      <td>0</td>\n",
       "    </tr>\n",
       "  </tbody>\n",
       "</table>\n",
       "</div>"
      ],
      "text/plain": [
       "   long_hair  forehead_width_cm  forehead_height_cm  nose_wide  nose_long  \\\n",
       "0          1               13.9                 6.0          1          1   \n",
       "1          1               13.6                 6.2          1          0   \n",
       "2          1               11.6                 5.1          0          1   \n",
       "3          1               12.4                 5.8          1          1   \n",
       "4          1               12.9                 6.4          0          0   \n",
       "\n",
       "   lips_thin  distance_nose_to_lip_long  Male  \n",
       "0          0                          1     1  \n",
       "1          1                          1     1  \n",
       "2          0                          0     0  \n",
       "3          1                          1     1  \n",
       "4          0                          0     0  "
      ]
     },
     "execution_count": 22,
     "metadata": {},
     "output_type": "execute_result"
    }
   ],
   "source": [
    "test_set.head(5)"
   ]
  },
  {
   "cell_type": "markdown",
   "id": "14949737",
   "metadata": {},
   "source": [
    "# Data preprocessing"
   ]
  },
  {
   "cell_type": "markdown",
   "id": "65c64d1f",
   "metadata": {},
   "source": [
    "We will do some data preprocessing and build the models with the first data set"
   ]
  },
  {
   "cell_type": "code",
   "execution_count": 247,
   "id": "8e5bceff",
   "metadata": {},
   "outputs": [],
   "source": [
    "df1=measurement_dataset.iloc[:,:-1]"
   ]
  },
  {
   "cell_type": "markdown",
   "id": "ea9ad109",
   "metadata": {},
   "source": [
    "Let's get dummies for the gender column"
   ]
  },
  {
   "cell_type": "code",
   "execution_count": 251,
   "id": "0955d3ae",
   "metadata": {},
   "outputs": [],
   "source": [
    "gender=pd.get_dummies(df1['gender'],drop_first=True)"
   ]
  },
  {
   "cell_type": "code",
   "execution_count": 254,
   "id": "3432cde4",
   "metadata": {},
   "outputs": [],
   "source": [
    "df1=pd.concat([df1,gender],axis=1)"
   ]
  },
  {
   "cell_type": "code",
   "execution_count": 258,
   "id": "9a5911fa",
   "metadata": {},
   "outputs": [],
   "source": [
    "df1.drop('gender',axis=1,inplace=True)"
   ]
  },
  {
   "cell_type": "code",
   "execution_count": 260,
   "id": "2dbfa730",
   "metadata": {},
   "outputs": [
    {
     "data": {
      "text/plain": [
       "long_hair                    0\n",
       "forehead_width_cm            0\n",
       "forehead_height_cm           0\n",
       "nose_wide                    0\n",
       "nose_long                    0\n",
       "lips_thin                    0\n",
       "distance_nose_to_lip_long    0\n",
       "Male                         0\n",
       "dtype: int64"
      ]
     },
     "execution_count": 260,
     "metadata": {},
     "output_type": "execute_result"
    }
   ],
   "source": [
    "df1.isnull().sum()"
   ]
  },
  {
   "cell_type": "code",
   "execution_count": 440,
   "id": "98cac5be",
   "metadata": {},
   "outputs": [],
   "source": [
    "df1.to_csv('df1.csv')"
   ]
  },
  {
   "cell_type": "markdown",
   "id": "12f4e6cc",
   "metadata": {},
   "source": [
    "# Modelling"
   ]
  },
  {
   "cell_type": "markdown",
   "id": "e9b95916",
   "metadata": {},
   "source": [
    "We will try multiple classification model such as using the classic train test split method:\n",
    "\n",
    "Logistic regression\n",
    "\n",
    "K Nearest Neighbour\n",
    "\n",
    "Support vector machine\n",
    "\n",
    "Random forest\n",
    "\n",
    "We will also use some ensemble machine learning algorithm such as :\n",
    "\n",
    "Gradient boosting \n",
    "\n",
    "XGBoost\n",
    "\n",
    "AdaBoost\n"
   ]
  },
  {
   "cell_type": "code",
   "execution_count": 2,
   "id": "6c769fef",
   "metadata": {},
   "outputs": [],
   "source": [
    "from sklearn.linear_model import LogisticRegression\n",
    "from sklearn.neighbors import KNeighborsClassifier\n",
    "from sklearn.svm import SVC\n",
    "from sklearn.ensemble import RandomForestClassifier\n",
    "from sklearn.naive_bayes import MultinomialNB\n",
    "from sklearn.ensemble import GradientBoostingClassifier\n",
    "from sklearn.ensemble import AdaBoostClassifier\n",
    "from xgboost import XGBClassifier\n",
    "from sklearn.preprocessing import StandardScaler\n",
    "from sklearn.metrics import accuracy_score,confusion_matrix,classification_report,plot_confusion_matrix,roc_auc_score"
   ]
  },
  {
   "cell_type": "code",
   "execution_count": 62,
   "id": "1be7dc92",
   "metadata": {},
   "outputs": [],
   "source": [
    "x_train=df1.iloc[:,:-1]\n",
    "y_train=df1['Male']\n",
    "x_test=test_set.iloc[:,:-1]\n",
    "y_test=test_set['Male']"
   ]
  },
  {
   "cell_type": "code",
   "execution_count": 323,
   "id": "118344d3",
   "metadata": {},
   "outputs": [],
   "source": [
    "classification_model=[\n",
    "    ('lr',LogisticRegression()),\n",
    "    ('knn',KNeighborsClassifier()),\n",
    "    ('svm',SVC()),\n",
    "    ('rf',RandomForestClassifier()),\n",
    "    ('naive',MultinomialNB()),\n",
    "    ('gbm',GradientBoostingClassifier()),\n",
    "    ('ada',AdaBoostClassifier()),\n",
    "    ('xgb',XGBClassifier(eval_metric='mlogloss'))\n",
    "]"
   ]
  },
  {
   "cell_type": "code",
   "execution_count": 370,
   "id": "46fe8966",
   "metadata": {},
   "outputs": [],
   "source": [
    "model_score=[]"
   ]
  },
  {
   "cell_type": "code",
   "execution_count": 371,
   "id": "9fa81355",
   "metadata": {},
   "outputs": [
    {
     "name": "stdout",
     "output_type": "stream",
     "text": [
      "lr mode accuracy score is : 0.976\n",
      "knn mode accuracy score is : 0.975\n",
      "svm mode accuracy score is : 0.977\n",
      "rf mode accuracy score is : 0.976\n",
      "naive mode accuracy score is : 0.962\n",
      "gbm mode accuracy score is : 0.981\n",
      "ada mode accuracy score is : 0.979\n",
      "xgb mode accuracy score is : 0.978\n"
     ]
    }
   ],
   "source": [
    "for name,model in classification_model:\n",
    "    model.fit(x_train,y_train)\n",
    "    prediction=model.predict(x_test)\n",
    "    avg_score=accuracy_score(y_test,prediction)\n",
    "    print(name,'mode accuracy score is : {}'.format(avg_score))\n",
    "    model_score.append(avg_score)\n",
    " "
   ]
  },
  {
   "cell_type": "code",
   "execution_count": 405,
   "id": "4a6f2543",
   "metadata": {},
   "outputs": [],
   "source": [
    "model_score=pd.DataFrame(model_score)\n",
    "model_score.index=[['lr','knn','svm','rf','naive','gbm','ada','xgb']]\n",
    "model_score.columns=[['accuracy score without K Fold validation']]"
   ]
  },
  {
   "cell_type": "code",
   "execution_count": 406,
   "id": "e2b4d43e",
   "metadata": {},
   "outputs": [
    {
     "data": {
      "text/html": [
       "<div>\n",
       "<style scoped>\n",
       "    .dataframe tbody tr th:only-of-type {\n",
       "        vertical-align: middle;\n",
       "    }\n",
       "\n",
       "    .dataframe tbody tr th {\n",
       "        vertical-align: top;\n",
       "    }\n",
       "\n",
       "    .dataframe thead tr th {\n",
       "        text-align: left;\n",
       "    }\n",
       "</style>\n",
       "<table border=\"1\" class=\"dataframe\">\n",
       "  <thead>\n",
       "    <tr>\n",
       "      <th></th>\n",
       "      <th>accuracy score without K Fold validation</th>\n",
       "    </tr>\n",
       "  </thead>\n",
       "  <tbody>\n",
       "    <tr>\n",
       "      <th>lr</th>\n",
       "      <td>0.976</td>\n",
       "    </tr>\n",
       "    <tr>\n",
       "      <th>knn</th>\n",
       "      <td>0.975</td>\n",
       "    </tr>\n",
       "    <tr>\n",
       "      <th>svm</th>\n",
       "      <td>0.977</td>\n",
       "    </tr>\n",
       "    <tr>\n",
       "      <th>rf</th>\n",
       "      <td>0.976</td>\n",
       "    </tr>\n",
       "    <tr>\n",
       "      <th>naive</th>\n",
       "      <td>0.962</td>\n",
       "    </tr>\n",
       "    <tr>\n",
       "      <th>gbm</th>\n",
       "      <td>0.981</td>\n",
       "    </tr>\n",
       "    <tr>\n",
       "      <th>ada</th>\n",
       "      <td>0.979</td>\n",
       "    </tr>\n",
       "    <tr>\n",
       "      <th>xgb</th>\n",
       "      <td>0.978</td>\n",
       "    </tr>\n",
       "  </tbody>\n",
       "</table>\n",
       "</div>"
      ],
      "text/plain": [
       "      accuracy score without K Fold validation\n",
       "lr                                       0.976\n",
       "knn                                      0.975\n",
       "svm                                      0.977\n",
       "rf                                       0.976\n",
       "naive                                    0.962\n",
       "gbm                                      0.981\n",
       "ada                                      0.979\n",
       "xgb                                      0.978"
      ]
     },
     "execution_count": 406,
     "metadata": {},
     "output_type": "execute_result"
    }
   ],
   "source": [
    "model_score"
   ]
  },
  {
   "cell_type": "markdown",
   "id": "1f2cc3d6",
   "metadata": {},
   "source": [
    "With KFold Validation"
   ]
  },
  {
   "cell_type": "code",
   "execution_count": 3,
   "id": "0db80e4f",
   "metadata": {},
   "outputs": [],
   "source": [
    "from sklearn.model_selection import KFold\n",
    "from sklearn.model_selection import cross_val_score"
   ]
  },
  {
   "cell_type": "code",
   "execution_count": 399,
   "id": "edaa383e",
   "metadata": {},
   "outputs": [],
   "source": [
    "mean_cross_val=[]"
   ]
  },
  {
   "cell_type": "code",
   "execution_count": 42,
   "id": "c8984639",
   "metadata": {},
   "outputs": [],
   "source": [
    "X=df1.iloc[:,:-1]\n",
    "Y=df1['Male']"
   ]
  },
  {
   "cell_type": "code",
   "execution_count": 9,
   "id": "78b96170",
   "metadata": {},
   "outputs": [],
   "source": [
    "cv=KFold(n_splits=10)"
   ]
  },
  {
   "cell_type": "code",
   "execution_count": 400,
   "id": "da121648",
   "metadata": {},
   "outputs": [
    {
     "name": "stdout",
     "output_type": "stream",
     "text": [
      "lr mode accuracy score is : [0.95012469 0.9675     0.98       0.96       0.9575     0.9725\n",
      " 0.98       0.97       0.96       0.9675    ]\n",
      "knn mode accuracy score is : [0.95760599 0.9575     0.97       0.965      0.9525     0.97\n",
      " 0.9775     0.9775     0.955      0.96      ]\n",
      "svm mode accuracy score is : [0.95511222 0.9675     0.9725     0.9575     0.96       0.97\n",
      " 0.9675     0.98       0.9575     0.9775    ]\n",
      "rf mode accuracy score is : [0.95511222 0.965      0.975      0.97       0.95       0.9775\n",
      " 0.9775     0.9725     0.965      0.9775    ]\n",
      "naive mode accuracy score is : [0.94264339 0.9575     0.9725     0.9575     0.9425     0.95\n",
      " 0.9675     0.95       0.9625     0.965     ]\n",
      "gbm mode accuracy score is : [0.96259352 0.9625     0.975      0.9725     0.9575     0.9925\n",
      " 0.9825     0.985      0.965      0.9775    ]\n",
      "ada mode accuracy score is : [0.95261845 0.96       0.98       0.9675     0.965      0.9725\n",
      " 0.9775     0.9825     0.9725     0.9725    ]\n",
      "xgb mode accuracy score is : [0.95012469 0.9475     0.9675     0.97       0.9525     0.975\n",
      " 0.975      0.9725     0.9625     0.975     ]\n"
     ]
    }
   ],
   "source": [
    "for name,model in classification_model:\n",
    "    cv_result=cross_val_score(model,X=X,y=Y,cv=cv,scoring='accuracy')\n",
    "    print(name,'mode accuracy score is : {}'.format(cv_result))\n",
    "    mean_cross_val.append(np.mean(cv_result))"
   ]
  },
  {
   "cell_type": "code",
   "execution_count": 404,
   "id": "1bc892f2",
   "metadata": {},
   "outputs": [
    {
     "data": {
      "text/html": [
       "<div>\n",
       "<style scoped>\n",
       "    .dataframe tbody tr th:only-of-type {\n",
       "        vertical-align: middle;\n",
       "    }\n",
       "\n",
       "    .dataframe tbody tr th {\n",
       "        vertical-align: top;\n",
       "    }\n",
       "\n",
       "    .dataframe thead tr th {\n",
       "        text-align: left;\n",
       "    }\n",
       "</style>\n",
       "<table border=\"1\" class=\"dataframe\">\n",
       "  <thead>\n",
       "    <tr>\n",
       "      <th></th>\n",
       "      <th>accuracy score with K Fold validation</th>\n",
       "    </tr>\n",
       "  </thead>\n",
       "  <tbody>\n",
       "    <tr>\n",
       "      <th>lr</th>\n",
       "      <td>0.966512</td>\n",
       "    </tr>\n",
       "    <tr>\n",
       "      <th>knn</th>\n",
       "      <td>0.964261</td>\n",
       "    </tr>\n",
       "    <tr>\n",
       "      <th>svm</th>\n",
       "      <td>0.966511</td>\n",
       "    </tr>\n",
       "    <tr>\n",
       "      <th>rf</th>\n",
       "      <td>0.968511</td>\n",
       "    </tr>\n",
       "    <tr>\n",
       "      <th>naive</th>\n",
       "      <td>0.956764</td>\n",
       "    </tr>\n",
       "    <tr>\n",
       "      <th>gbm</th>\n",
       "      <td>0.973259</td>\n",
       "    </tr>\n",
       "    <tr>\n",
       "      <th>ada</th>\n",
       "      <td>0.970262</td>\n",
       "    </tr>\n",
       "    <tr>\n",
       "      <th>xgb</th>\n",
       "      <td>0.964762</td>\n",
       "    </tr>\n",
       "  </tbody>\n",
       "</table>\n",
       "</div>"
      ],
      "text/plain": [
       "      accuracy score with K Fold validation\n",
       "lr                                 0.966512\n",
       "knn                                0.964261\n",
       "svm                                0.966511\n",
       "rf                                 0.968511\n",
       "naive                              0.956764\n",
       "gbm                                0.973259\n",
       "ada                                0.970262\n",
       "xgb                                0.964762"
      ]
     },
     "execution_count": 404,
     "metadata": {},
     "output_type": "execute_result"
    }
   ],
   "source": [
    "mean_cross_val=pd.DataFrame(mean_cross_val)\n",
    "mean_cross_val.index=[['lr','knn','svm','rf','naive','gbm','ada','xgb']]\n",
    "mean_cross_val.columns=[['accuracy score with K Fold validation']]\n",
    "mean_cross_val"
   ]
  },
  {
   "cell_type": "code",
   "execution_count": 408,
   "id": "aae1bd6a",
   "metadata": {},
   "outputs": [
    {
     "data": {
      "text/html": [
       "<div>\n",
       "<style scoped>\n",
       "    .dataframe tbody tr th:only-of-type {\n",
       "        vertical-align: middle;\n",
       "    }\n",
       "\n",
       "    .dataframe tbody tr th {\n",
       "        vertical-align: top;\n",
       "    }\n",
       "\n",
       "    .dataframe thead tr th {\n",
       "        text-align: left;\n",
       "    }\n",
       "</style>\n",
       "<table border=\"1\" class=\"dataframe\">\n",
       "  <thead>\n",
       "    <tr>\n",
       "      <th></th>\n",
       "      <th>accuracy score without K Fold validation</th>\n",
       "      <th>accuracy score with K Fold validation</th>\n",
       "    </tr>\n",
       "  </thead>\n",
       "  <tbody>\n",
       "    <tr>\n",
       "      <th>lr</th>\n",
       "      <td>0.976</td>\n",
       "      <td>0.966512</td>\n",
       "    </tr>\n",
       "    <tr>\n",
       "      <th>knn</th>\n",
       "      <td>0.975</td>\n",
       "      <td>0.964261</td>\n",
       "    </tr>\n",
       "    <tr>\n",
       "      <th>svm</th>\n",
       "      <td>0.977</td>\n",
       "      <td>0.966511</td>\n",
       "    </tr>\n",
       "    <tr>\n",
       "      <th>rf</th>\n",
       "      <td>0.976</td>\n",
       "      <td>0.968511</td>\n",
       "    </tr>\n",
       "    <tr>\n",
       "      <th>naive</th>\n",
       "      <td>0.962</td>\n",
       "      <td>0.956764</td>\n",
       "    </tr>\n",
       "    <tr>\n",
       "      <th>gbm</th>\n",
       "      <td>0.981</td>\n",
       "      <td>0.973259</td>\n",
       "    </tr>\n",
       "    <tr>\n",
       "      <th>ada</th>\n",
       "      <td>0.979</td>\n",
       "      <td>0.970262</td>\n",
       "    </tr>\n",
       "    <tr>\n",
       "      <th>xgb</th>\n",
       "      <td>0.978</td>\n",
       "      <td>0.964762</td>\n",
       "    </tr>\n",
       "  </tbody>\n",
       "</table>\n",
       "</div>"
      ],
      "text/plain": [
       "      accuracy score without K Fold validation  \\\n",
       "lr                                       0.976   \n",
       "knn                                      0.975   \n",
       "svm                                      0.977   \n",
       "rf                                       0.976   \n",
       "naive                                    0.962   \n",
       "gbm                                      0.981   \n",
       "ada                                      0.979   \n",
       "xgb                                      0.978   \n",
       "\n",
       "      accuracy score with K Fold validation  \n",
       "lr                                 0.966512  \n",
       "knn                                0.964261  \n",
       "svm                                0.966511  \n",
       "rf                                 0.968511  \n",
       "naive                              0.956764  \n",
       "gbm                                0.973259  \n",
       "ada                                0.970262  \n",
       "xgb                                0.964762  "
      ]
     },
     "execution_count": 408,
     "metadata": {},
     "output_type": "execute_result"
    }
   ],
   "source": [
    "pd.merge(model_score,mean_cross_val, left_index=True, right_index=True)"
   ]
  },
  {
   "cell_type": "markdown",
   "id": "98d9e6d3",
   "metadata": {},
   "source": [
    "# Hyperparameter tuning"
   ]
  },
  {
   "cell_type": "markdown",
   "id": "9d894b8e",
   "metadata": {},
   "source": [
    "This part is taken and inspired from :https://www.analyticsvidhya.com/blog/2016/02/complete-guide-parameter-tuning-gradient-boosting-gbm-python/"
   ]
  },
  {
   "cell_type": "markdown",
   "id": "d40ec44c",
   "metadata": {},
   "source": [
    "#### Making a function to compare each model's score"
   ]
  },
  {
   "cell_type": "code",
   "execution_count": 147,
   "id": "dd7cb5b4",
   "metadata": {},
   "outputs": [],
   "source": [
    "def model_score(model,X_train,Y_train,X_test,Y_test,x,y,cross_validation=True,feature_importance=True,cv_fold=10):\n",
    "    \n",
    "    #fit the model\n",
    "    model.fit(x_train,y_train)\n",
    "    prediction=model.predict(x_test)\n",
    "    #getting the probability of that person being 1(male)\n",
    "    #The probability estimates correspond to the probability of the class with the greater label, i.e. estimator.classes_[1] and thus estimator.predict_proba(X, y)[:, 1]\n",
    "    target_prob=model.predict_proba(x_train)[:,1]\n",
    "    \n",
    "    #see accuracy with normal train test split\n",
    "    print (\"\\nModel classification report with classic train test split\")\n",
    "    print (\"Accuracy : {}\".format(accuracy_score(y_test,prediction)))\n",
    "    print (\"AUC Score (Train): {}\".format(roc_auc_score(y_train,target_prob)))\n",
    "    \n",
    "    #see score with cross validation set\n",
    "    if cross_validation:\n",
    "        cv_result=cross_val_score(model,X,Y,cv=cv_fold,scoring='accuracy')\n",
    "        print (\"CV Score : Mean {} | Std - {} | Min - {} | Max - {}\".format(np.mean(cv_result),np.std(cv_result),np.min(cv_result),np.max(cv_result)))\n",
    "      \n",
    "    #plot the features important\n",
    "    if feature_importance:\n",
    "        feature_importance=pd.Series(model.feature_importances_,index=[x_train.columns]).sort_values(ascending=False)\n",
    "        feature_importance.plot(kind='barh', title='feature importance')\n",
    "        plt.ylabel(\"Feature importance score\")"
   ]
  },
  {
   "cell_type": "code",
   "execution_count": 87,
   "id": "a69c5e0b",
   "metadata": {},
   "outputs": [],
   "source": [
    "from sklearn.model_selection import GridSearchCV"
   ]
  },
  {
   "cell_type": "markdown",
   "id": "90ec8081",
   "metadata": {},
   "source": [
    "### Base model"
   ]
  },
  {
   "cell_type": "markdown",
   "id": "8cfabf4c",
   "metadata": {},
   "source": [
    "##### Base model with default parameters\n"
   ]
  },
  {
   "cell_type": "code",
   "execution_count": 112,
   "id": "0acb3051",
   "metadata": {},
   "outputs": [],
   "source": [
    "base_model=GradientBoostingClassifier()"
   ]
  },
  {
   "cell_type": "code",
   "execution_count": 148,
   "id": "91d26cea",
   "metadata": {},
   "outputs": [
    {
     "name": "stdout",
     "output_type": "stream",
     "text": [
      "\n",
      "Model classification report with classic train test split\n",
      "Accuracy : 0.981\n",
      "AUC Score (Train): 0.9985557113121787\n",
      "CV Score : Mean 0.9732593516209477 | Std - 0.009739724186287572 | Min - 0.9625 | Max - 0.99\n"
     ]
    },
    {
     "data": {
      "image/png": "[encoded data removed]",
      "text/plain": [
       "<Figure size 432x288 with 1 Axes>"
      ]
     },
     "metadata": {
      "needs_background": "light"
     },
     "output_type": "display_data"
    }
   ],
   "source": [
    "model_score(base_model,X_train=x_train,Y_train=y_train,X_test=x_test,Y_test=y_test,x=X,y=Y,cross_validation=True,feature_importance=True)"
   ]
  },
  {
   "cell_type": "markdown",
   "id": "6c7fdd93",
   "metadata": {},
   "source": [
    "# First model"
   ]
  },
  {
   "cell_type": "markdown",
   "id": "d0e236f3",
   "metadata": {},
   "source": [
    "#### Trying to find the optimal number for n_estimators"
   ]
  },
  {
   "cell_type": "code",
   "execution_count": 149,
   "id": "cf2a9024",
   "metadata": {},
   "outputs": [
    {
     "data": {
      "text/plain": [
       "GridSearchCV(cv=5,\n",
       "             estimator=GradientBoostingClassifier(max_depth=8,\n",
       "                                                  max_features='sqrt',\n",
       "                                                  min_samples_leaf=50,\n",
       "                                                  min_samples_split=500,\n",
       "                                                  random_state=10,\n",
       "                                                  subsample=0.8),\n",
       "             n_jobs=4, param_grid={'n_estimators': range(20, 81, 10)},\n",
       "             scoring='roc_auc')"
      ]
     },
     "execution_count": 149,
     "metadata": {},
     "output_type": "execute_result"
    }
   ],
   "source": [
    "param_test1 = {'n_estimators':range(20,81,10)}\n",
    "gsearch1 = GridSearchCV(estimator = GradientBoostingClassifier(learning_rate=0.1, min_samples_split=500,\n",
    "                                  min_samples_leaf=50,max_depth=8,max_features='sqrt', subsample=0.8,random_state=10), \n",
    "                       param_grid = param_test1, scoring='roc_auc',n_jobs=4,cv=5)\n",
    "gsearch1.fit(X,Y)"
   ]
  },
  {
   "cell_type": "code",
   "execution_count": 150,
   "id": "7ad2f390",
   "metadata": {},
   "outputs": [
    {
     "data": {
      "text/plain": [
       "{'n_estimators': 50}"
      ]
     },
     "execution_count": 150,
     "metadata": {},
     "output_type": "execute_result"
    }
   ],
   "source": [
    "gsearch1.best_params_"
   ]
  },
  {
   "cell_type": "code",
   "execution_count": 151,
   "id": "e74e4538",
   "metadata": {},
   "outputs": [
    {
     "data": {
      "text/plain": [
       "0.9963169234981848"
      ]
     },
     "execution_count": 151,
     "metadata": {},
     "output_type": "execute_result"
    }
   ],
   "source": [
    "gsearch1.best_score_"
   ]
  },
  {
   "cell_type": "markdown",
   "id": "1cd2d8e5",
   "metadata": {},
   "source": [
    "## Step 2: Tune tree-specific parameters"
   ]
  },
  {
   "cell_type": "markdown",
   "id": "5f8cf85d",
   "metadata": {},
   "source": [
    "#### Tuning the tree parameters"
   ]
  },
  {
   "cell_type": "code",
   "execution_count": 152,
   "id": "50d9fff8",
   "metadata": {},
   "outputs": [
    {
     "data": {
      "text/plain": [
       "GridSearchCV(cv=5,\n",
       "             estimator=GradientBoostingClassifier(learning_rate=0.001,\n",
       "                                                  max_features='sqrt',\n",
       "                                                  n_estimators=70,\n",
       "                                                  random_state=10,\n",
       "                                                  subsample=0.8),\n",
       "             param_grid={'max_depth': range(5, 16, 2),\n",
       "                         'min_samples_split': range(200, 1001, 200)},\n",
       "             scoring='roc_auc')"
      ]
     },
     "execution_count": 152,
     "metadata": {},
     "output_type": "execute_result"
    }
   ],
   "source": [
    "param_test2 = {'max_depth':range(5,16,2), 'min_samples_split':range(200,1001,200)}\n",
    "\n",
    "gsearch2 = GridSearchCV(estimator = GradientBoostingClassifier(learning_rate=0.001, n_estimators=70,\n",
    "                                                max_features='sqrt', subsample=0.8, random_state=10), \n",
    "param_grid = param_test2, scoring='roc_auc', cv=5)\n",
    "gsearch2.fit(X,Y)"
   ]
  },
  {
   "cell_type": "code",
   "execution_count": 153,
   "id": "ad5b8e21",
   "metadata": {},
   "outputs": [
    {
     "data": {
      "text/plain": [
       "{'max_depth': 5, 'min_samples_split': 800}"
      ]
     },
     "execution_count": 153,
     "metadata": {},
     "output_type": "execute_result"
    }
   ],
   "source": [
    "gsearch2.best_params_"
   ]
  },
  {
   "cell_type": "code",
   "execution_count": 154,
   "id": "0a3283e1",
   "metadata": {},
   "outputs": [
    {
     "data": {
      "text/plain": [
       "0.996752807752312"
      ]
     },
     "execution_count": 154,
     "metadata": {},
     "output_type": "execute_result"
    }
   ],
   "source": [
    "gsearch2.best_score_"
   ]
  },
  {
   "cell_type": "markdown",
   "id": "7b6d451e",
   "metadata": {},
   "source": [
    "#### Finding the best parameters for min_samples_leaf"
   ]
  },
  {
   "cell_type": "code",
   "execution_count": 159,
   "id": "13b72cb7",
   "metadata": {},
   "outputs": [
    {
     "data": {
      "text/plain": [
       "GridSearchCV(cv=5,\n",
       "             estimator=GradientBoostingClassifier(max_depth=5,\n",
       "                                                  max_features='sqrt',\n",
       "                                                  n_estimators=50,\n",
       "                                                  random_state=10,\n",
       "                                                  subsample=0.8),\n",
       "             param_grid={'min_samples_leaf': range(30, 71, 10),\n",
       "                         'min_samples_split': range(1000, 2100, 200)},\n",
       "             scoring='roc_auc')"
      ]
     },
     "execution_count": 159,
     "metadata": {},
     "output_type": "execute_result"
    }
   ],
   "source": [
    "param_test3 = {'min_samples_split':range(1000,2100,200), 'min_samples_leaf':range(30,71,10)}\n",
    "gsearch3 = GridSearchCV(estimator = GradientBoostingClassifier(learning_rate=0.1, n_estimators=50,max_depth=5,\n",
    "                                                    max_features='sqrt', subsample=0.8, random_state=10), \n",
    "                       param_grid = param_test3, scoring='roc_auc', cv=5)\n",
    "gsearch3.fit(X,Y)"
   ]
  },
  {
   "cell_type": "code",
   "execution_count": 160,
   "id": "acf25471",
   "metadata": {},
   "outputs": [
    {
     "data": {
      "text/plain": [
       "{'min_samples_leaf': 30, 'min_samples_split': 1000}"
      ]
     },
     "execution_count": 160,
     "metadata": {},
     "output_type": "execute_result"
    }
   ],
   "source": [
    "gsearch3.best_params_"
   ]
  },
  {
   "cell_type": "code",
   "execution_count": 161,
   "id": "26224e63",
   "metadata": {},
   "outputs": [
    {
     "data": {
      "text/plain": [
       "0.9965847330078151"
      ]
     },
     "execution_count": 161,
     "metadata": {},
     "output_type": "execute_result"
    }
   ],
   "source": [
    "gsearch3.best_score_"
   ]
  },
  {
   "cell_type": "code",
   "execution_count": 162,
   "id": "78446623",
   "metadata": {},
   "outputs": [
    {
     "name": "stdout",
     "output_type": "stream",
     "text": [
      "\n",
      "Model classification report with classic train test split\n",
      "Accuracy : 0.982\n",
      "AUC Score (Train): 0.997374543037554\n",
      "CV Score : Mean 0.9755087281795513 | Std - 0.009788635954998593 | Min - 0.9625 | Max - 0.9925\n"
     ]
    },
    {
     "data": {
      "image/png": "[encoded data removed]",
      "text/plain": [
       "<Figure size 432x288 with 1 Axes>"
      ]
     },
     "metadata": {
      "needs_background": "light"
     },
     "output_type": "display_data"
    }
   ],
   "source": [
    "model_score(gsearch3.best_estimator_,X_train=x_train,Y_train=y_train,X_test=x_test,Y_test=y_test,x=X,y=Y,cross_validation=True,feature_importance=True)"
   ]
  },
  {
   "cell_type": "markdown",
   "id": "0d04b1c1",
   "metadata": {},
   "source": [
    "#### Tuning max features"
   ]
  },
  {
   "cell_type": "code",
   "execution_count": 163,
   "id": "d4ed31ed",
   "metadata": {},
   "outputs": [
    {
     "data": {
      "text/plain": [
       "GridSearchCV(cv=5,\n",
       "             estimator=GradientBoostingClassifier(max_depth=5,\n",
       "                                                  min_samples_leaf=30,\n",
       "                                                  min_samples_split=1000,\n",
       "                                                  n_estimators=50,\n",
       "                                                  random_state=10,\n",
       "                                                  subsample=0.8),\n",
       "             param_grid={'max_features': range(7, 20, 2)}, scoring='roc_auc')"
      ]
     },
     "execution_count": 163,
     "metadata": {},
     "output_type": "execute_result"
    }
   ],
   "source": [
    "param_test4 = {'max_features':range(7,20,2)}\n",
    "gsearch4 = GridSearchCV(estimator = GradientBoostingClassifier(learning_rate=0.1, n_estimators=50,max_depth=5, \n",
    "                            min_samples_split=1000, min_samples_leaf=30, subsample=0.8, random_state=10),\n",
    "                       param_grid = param_test4, scoring='roc_auc', cv=5)\n",
    "gsearch4.fit(X,Y)"
   ]
  },
  {
   "cell_type": "code",
   "execution_count": 164,
   "id": "2f864065",
   "metadata": {},
   "outputs": [
    {
     "data": {
      "text/plain": [
       "{'max_features': 7}"
      ]
     },
     "execution_count": 164,
     "metadata": {},
     "output_type": "execute_result"
    }
   ],
   "source": [
    "gsearch4.best_params_"
   ]
  },
  {
   "cell_type": "code",
   "execution_count": 166,
   "id": "7af46df5",
   "metadata": {},
   "outputs": [
    {
     "data": {
      "text/plain": [
       "0.9966697553053736"
      ]
     },
     "execution_count": 166,
     "metadata": {},
     "output_type": "execute_result"
    }
   ],
   "source": [
    "gsearch4.best_score_"
   ]
  },
  {
   "cell_type": "markdown",
   "id": "b13c18d6",
   "metadata": {},
   "source": [
    "## Step 3: Tune subsample and lower the learning rate"
   ]
  },
  {
   "cell_type": "code",
   "execution_count": 167,
   "id": "b36eeead",
   "metadata": {},
   "outputs": [
    {
     "data": {
      "text/plain": [
       "GridSearchCV(cv=5,\n",
       "             estimator=GradientBoostingClassifier(learning_rate=0.001,\n",
       "                                                  max_depth=5, max_features=7,\n",
       "                                                  min_samples_leaf=30,\n",
       "                                                  min_samples_split=1000,\n",
       "                                                  n_estimators=50,\n",
       "                                                  random_state=10,\n",
       "                                                  subsample=0.8),\n",
       "             param_grid={'subsample': [0.6, 0.7, 0.75, 0.8, 0.85, 0.9]},\n",
       "             scoring='roc_auc')"
      ]
     },
     "execution_count": 167,
     "metadata": {},
     "output_type": "execute_result"
    }
   ],
   "source": [
    "param_test5 = {'subsample':[0.6,0.7,0.75,0.8,0.85,0.9]}\n",
    "gsearch5 = GridSearchCV(estimator = GradientBoostingClassifier(learning_rate=0.001, n_estimators=50,max_depth=5, \n",
    "                            min_samples_split=1000, min_samples_leaf=30, subsample=0.8, random_state=10, max_features=7),\n",
    "                       param_grid = param_test5, scoring='roc_auc', cv=5)\n",
    "gsearch5.fit(X,Y)"
   ]
  },
  {
   "cell_type": "code",
   "execution_count": 168,
   "id": "8950bd18",
   "metadata": {},
   "outputs": [
    {
     "data": {
      "text/plain": [
       "{'subsample': 0.7}"
      ]
     },
     "execution_count": 168,
     "metadata": {},
     "output_type": "execute_result"
    }
   ],
   "source": [
    "gsearch5.best_params_"
   ]
  },
  {
   "cell_type": "code",
   "execution_count": 169,
   "id": "0e31649e",
   "metadata": {},
   "outputs": [
    {
     "data": {
      "text/plain": [
       "0.990393960484641"
      ]
     },
     "execution_count": 169,
     "metadata": {},
     "output_type": "execute_result"
    }
   ],
   "source": [
    "gsearch5.best_score_"
   ]
  },
  {
   "cell_type": "markdown",
   "id": "494f2317",
   "metadata": {},
   "source": [
    "#### Final model that we will be using "
   ]
  },
  {
   "cell_type": "code",
   "execution_count": 175,
   "id": "8ceb2fcd",
   "metadata": {},
   "outputs": [],
   "source": [
    "model1=GradientBoostingClassifier(learning_rate=0.1,n_estimators=50,max_depth=5,min_samples_split=800,min_samples_leaf=30,max_features=7,subsample=0.7)"
   ]
  },
  {
   "cell_type": "code",
   "execution_count": 176,
   "id": "c4a90ac5",
   "metadata": {},
   "outputs": [
    {
     "name": "stdout",
     "output_type": "stream",
     "text": [
      "\n",
      "Model classification report with classic train test split\n",
      "Accuracy : 0.982\n",
      "AUC Score (Train): 0.9974916103818869\n",
      "CV Score : Mean 0.9757587281795512 | Std - 0.009480270553613739 | Min - 0.965 | Max - 0.9925\n"
     ]
    },
    {
     "data": {
      "image/png": "[encoded data removed]",
      "text/plain": [
       "<Figure size 432x288 with 1 Axes>"
      ]
     },
     "metadata": {
      "needs_background": "light"
     },
     "output_type": "display_data"
    }
   ],
   "source": [
    "model_score(model1,X_train=x_train,Y_train=y_train,X_test=x_test,Y_test=y_test,x=X,y=Y,cross_validation=True,feature_importance=True)"
   ]
  },
  {
   "cell_type": "markdown",
   "id": "b0b231de",
   "metadata": {},
   "source": [
    "# Saving our first model and testing it"
   ]
  },
  {
   "cell_type": "code",
   "execution_count": 183,
   "id": "b60e5191",
   "metadata": {},
   "outputs": [],
   "source": [
    "import joblib"
   ]
  },
  {
   "cell_type": "code",
   "execution_count": 184,
   "id": "87697933",
   "metadata": {},
   "outputs": [
    {
     "data": {
      "text/plain": [
       "['model1']"
      ]
     },
     "execution_count": 184,
     "metadata": {},
     "output_type": "execute_result"
    }
   ],
   "source": [
    "joblib.dump(model1,'model1')"
   ]
  },
  {
   "cell_type": "code",
   "execution_count": 185,
   "id": "378cd4a0",
   "metadata": {},
   "outputs": [],
   "source": [
    "testing=joblib.load('model1')"
   ]
  },
  {
   "cell_type": "code",
   "execution_count": 187,
   "id": "294efe71",
   "metadata": {},
   "outputs": [
    {
     "data": {
      "text/plain": [
       "GradientBoostingClassifier(max_depth=5, max_features=7, min_samples_leaf=30,\n",
       "                           min_samples_split=800, n_estimators=50,\n",
       "                           subsample=0.7)"
      ]
     },
     "execution_count": 187,
     "metadata": {},
     "output_type": "execute_result"
    }
   ],
   "source": [
    "testing.fit(X,Y)"
   ]
  },
  {
   "cell_type": "markdown",
   "id": "9d3b2894",
   "metadata": {},
   "source": [
    "### Metrics evaluation"
   ]
  },
  {
   "cell_type": "code",
   "execution_count": 197,
   "id": "d190da5e",
   "metadata": {},
   "outputs": [
    {
     "name": "stdout",
     "output_type": "stream",
     "text": [
      "model accuracy score is: 0.982\n",
      "              precision    recall  f1-score   support\n",
      "\n",
      "           0       0.97      1.00      0.98       506\n",
      "           1       1.00      0.97      0.98       494\n",
      "\n",
      "    accuracy                           0.98      1000\n",
      "   macro avg       0.98      0.98      0.98      1000\n",
      "weighted avg       0.98      0.98      0.98      1000\n",
      "\n"
     ]
    },
    {
     "data": {
      "text/plain": [
       "<sklearn.metrics._plot.confusion_matrix.ConfusionMatrixDisplay at 0x1e6fe7374c0>"
      ]
     },
     "execution_count": 197,
     "metadata": {},
     "output_type": "execute_result"
    },
    {
     "data": {
      "image/png": "[encoded data removed]",
      "text/plain": [
       "<Figure size 432x288 with 2 Axes>"
      ]
     },
     "metadata": {
      "needs_background": "light"
     },
     "output_type": "display_data"
    }
   ],
   "source": [
    "prediction1=testing.predict(x_test)\n",
    "print('model accuracy score is: {}'.format(accuracy_score(prediction1,y_test)))\n",
    "print(classification_report(y_test,prediction1))\n",
    "plot_confusion_matrix(testing,x_test,y_test)"
   ]
  },
  {
   "cell_type": "markdown",
   "id": "318abcc7",
   "metadata": {},
   "source": [
    "# Second model"
   ]
  },
  {
   "cell_type": "markdown",
   "id": "87309afd",
   "metadata": {},
   "source": [
    "Importing our training and test set and concantenating them."
   ]
  },
  {
   "cell_type": "code",
   "execution_count": 284,
   "id": "62c56011",
   "metadata": {},
   "outputs": [],
   "source": [
    "train=pd.read_csv('train (1).csv')"
   ]
  },
  {
   "cell_type": "code",
   "execution_count": 285,
   "id": "01f2bdc4",
   "metadata": {},
   "outputs": [],
   "source": [
    "test=pd.read_csv('test (1).csv')"
   ]
  },
  {
   "cell_type": "code",
   "execution_count": 286,
   "id": "c237467b",
   "metadata": {},
   "outputs": [],
   "source": [
    "df2=pd.concat([train,test])"
   ]
  },
  {
   "cell_type": "code",
   "execution_count": 287,
   "id": "7472eda7",
   "metadata": {},
   "outputs": [],
   "source": [
    "df2.reset_index(inplace=True)"
   ]
  },
  {
   "cell_type": "code",
   "execution_count": 288,
   "id": "3549060a",
   "metadata": {},
   "outputs": [],
   "source": [
    "df2.drop('index',axis=1,inplace=True)"
   ]
  },
  {
   "cell_type": "code",
   "execution_count": 289,
   "id": "c69fc3bd",
   "metadata": {},
   "outputs": [],
   "source": [
    "df2.drop('ID',axis=1,inplace=True)"
   ]
  },
  {
   "cell_type": "code",
   "execution_count": 290,
   "id": "e361df9f",
   "metadata": {},
   "outputs": [
    {
     "data": {
      "text/html": [
       "<div>\n",
       "<style scoped>\n",
       "    .dataframe tbody tr th:only-of-type {\n",
       "        vertical-align: middle;\n",
       "    }\n",
       "\n",
       "    .dataframe tbody tr th {\n",
       "        vertical-align: top;\n",
       "    }\n",
       "\n",
       "    .dataframe thead th {\n",
       "        text-align: right;\n",
       "    }\n",
       "</style>\n",
       "<table border=\"1\" class=\"dataframe\">\n",
       "  <thead>\n",
       "    <tr style=\"text-align: right;\">\n",
       "      <th></th>\n",
       "      <th>Favorite Color</th>\n",
       "      <th>Favorite Music Genre</th>\n",
       "      <th>Favorite Beverage</th>\n",
       "      <th>Favorite Soft Drink</th>\n",
       "      <th>Gender</th>\n",
       "    </tr>\n",
       "  </thead>\n",
       "  <tbody>\n",
       "    <tr>\n",
       "      <th>0</th>\n",
       "      <td>Neutral</td>\n",
       "      <td>Hip hop</td>\n",
       "      <td>Vodka</td>\n",
       "      <td>Coca Cola/Pepsi</td>\n",
       "      <td>F</td>\n",
       "    </tr>\n",
       "    <tr>\n",
       "      <th>1</th>\n",
       "      <td>Warm</td>\n",
       "      <td>Rock</td>\n",
       "      <td>Wine</td>\n",
       "      <td>Coca Cola/Pepsi</td>\n",
       "      <td>F</td>\n",
       "    </tr>\n",
       "    <tr>\n",
       "      <th>2</th>\n",
       "      <td>Warm</td>\n",
       "      <td>Folk/Traditional</td>\n",
       "      <td>Whiskey</td>\n",
       "      <td>Fanta</td>\n",
       "      <td>F</td>\n",
       "    </tr>\n",
       "    <tr>\n",
       "      <th>3</th>\n",
       "      <td>Cool</td>\n",
       "      <td>Rock</td>\n",
       "      <td>Vodka</td>\n",
       "      <td>Coca Cola/Pepsi</td>\n",
       "      <td>F</td>\n",
       "    </tr>\n",
       "    <tr>\n",
       "      <th>4</th>\n",
       "      <td>Warm</td>\n",
       "      <td>Jazz/Blues</td>\n",
       "      <td>Doesn't drink</td>\n",
       "      <td>Fanta</td>\n",
       "      <td>F</td>\n",
       "    </tr>\n",
       "    <tr>\n",
       "      <th>...</th>\n",
       "      <td>...</td>\n",
       "      <td>...</td>\n",
       "      <td>...</td>\n",
       "      <td>...</td>\n",
       "      <td>...</td>\n",
       "    </tr>\n",
       "    <tr>\n",
       "      <th>61</th>\n",
       "      <td>Cool</td>\n",
       "      <td>Hip hop</td>\n",
       "      <td>Wine</td>\n",
       "      <td>Coca Cola/Pepsi</td>\n",
       "      <td>M</td>\n",
       "    </tr>\n",
       "    <tr>\n",
       "      <th>62</th>\n",
       "      <td>Cool</td>\n",
       "      <td>Rock</td>\n",
       "      <td>Doesn't drink</td>\n",
       "      <td>Other</td>\n",
       "      <td>M</td>\n",
       "    </tr>\n",
       "    <tr>\n",
       "      <th>63</th>\n",
       "      <td>Cool</td>\n",
       "      <td>Hip hop</td>\n",
       "      <td>Doesn't drink</td>\n",
       "      <td>Other</td>\n",
       "      <td>M</td>\n",
       "    </tr>\n",
       "    <tr>\n",
       "      <th>64</th>\n",
       "      <td>Cool</td>\n",
       "      <td>Electronic</td>\n",
       "      <td>Other</td>\n",
       "      <td>Fanta</td>\n",
       "      <td>M</td>\n",
       "    </tr>\n",
       "    <tr>\n",
       "      <th>65</th>\n",
       "      <td>Warm</td>\n",
       "      <td>Electronic</td>\n",
       "      <td>Vodka</td>\n",
       "      <td>Fanta</td>\n",
       "      <td>M</td>\n",
       "    </tr>\n",
       "  </tbody>\n",
       "</table>\n",
       "<p>66 rows × 5 columns</p>\n",
       "</div>"
      ],
      "text/plain": [
       "   Favorite Color Favorite Music Genre Favorite Beverage Favorite Soft Drink  \\\n",
       "0         Neutral              Hip hop             Vodka     Coca Cola/Pepsi   \n",
       "1            Warm                 Rock              Wine     Coca Cola/Pepsi   \n",
       "2            Warm     Folk/Traditional           Whiskey               Fanta   \n",
       "3            Cool                 Rock             Vodka     Coca Cola/Pepsi   \n",
       "4            Warm           Jazz/Blues     Doesn't drink               Fanta   \n",
       "..            ...                  ...               ...                 ...   \n",
       "61           Cool              Hip hop              Wine     Coca Cola/Pepsi   \n",
       "62           Cool                 Rock     Doesn't drink               Other   \n",
       "63           Cool              Hip hop     Doesn't drink               Other   \n",
       "64           Cool           Electronic             Other               Fanta   \n",
       "65           Warm           Electronic             Vodka               Fanta   \n",
       "\n",
       "   Gender  \n",
       "0       F  \n",
       "1       F  \n",
       "2       F  \n",
       "3       F  \n",
       "4       F  \n",
       "..    ...  \n",
       "61      M  \n",
       "62      M  \n",
       "63      M  \n",
       "64      M  \n",
       "65      M  \n",
       "\n",
       "[66 rows x 5 columns]"
      ]
     },
     "execution_count": 290,
     "metadata": {},
     "output_type": "execute_result"
    }
   ],
   "source": [
    "df2"
   ]
  },
  {
   "cell_type": "markdown",
   "id": "5f29646e",
   "metadata": {},
   "source": [
    "Getting dummies for the categorical columns"
   ]
  },
  {
   "cell_type": "code",
   "execution_count": 291,
   "id": "80e93ef7",
   "metadata": {},
   "outputs": [],
   "source": [
    "colors=pd.get_dummies(df2['Favorite Color'],drop_first=True)"
   ]
  },
  {
   "cell_type": "code",
   "execution_count": 292,
   "id": "97d6fffb",
   "metadata": {},
   "outputs": [],
   "source": [
    "musics=pd.get_dummies(df2['Favorite Music Genre'],drop_first=True)"
   ]
  },
  {
   "cell_type": "code",
   "execution_count": 293,
   "id": "40dfe8ad",
   "metadata": {},
   "outputs": [],
   "source": [
    "soft_drinks=pd.get_dummies(df2['Favorite Soft Drink'],drop_first=True)"
   ]
  },
  {
   "cell_type": "code",
   "execution_count": 294,
   "id": "ac37632b",
   "metadata": {},
   "outputs": [],
   "source": [
    "genders=pd.get_dummies(df2['Gender'],drop_first=True)"
   ]
  },
  {
   "cell_type": "code",
   "execution_count": 295,
   "id": "bd38d967",
   "metadata": {},
   "outputs": [],
   "source": [
    "df2=pd.concat([df2,colors,musics,soft_drinks,genders],axis=1)"
   ]
  },
  {
   "cell_type": "code",
   "execution_count": 297,
   "id": "b7e90302",
   "metadata": {},
   "outputs": [],
   "source": [
    "df2.drop('Favorite Color',axis=1,inplace=True)"
   ]
  },
  {
   "cell_type": "code",
   "execution_count": 298,
   "id": "6d6458ee",
   "metadata": {},
   "outputs": [],
   "source": [
    "df2.drop('Favorite Beverage',axis=1,inplace=True)"
   ]
  },
  {
   "cell_type": "code",
   "execution_count": 299,
   "id": "087f083c",
   "metadata": {},
   "outputs": [],
   "source": [
    "df2.drop('Favorite Music Genre',axis=1,inplace=True)"
   ]
  },
  {
   "cell_type": "code",
   "execution_count": 300,
   "id": "2c34c30b",
   "metadata": {},
   "outputs": [],
   "source": [
    "df2.drop('Favorite Soft Drink',axis=1,inplace=True)"
   ]
  },
  {
   "cell_type": "code",
   "execution_count": 301,
   "id": "08e00ddd",
   "metadata": {},
   "outputs": [],
   "source": [
    "df2.drop('Gender',axis=1,inplace=True)"
   ]
  },
  {
   "cell_type": "code",
   "execution_count": 302,
   "id": "1672fa15",
   "metadata": {},
   "outputs": [
    {
     "data": {
      "text/html": [
       "<div>\n",
       "<style scoped>\n",
       "    .dataframe tbody tr th:only-of-type {\n",
       "        vertical-align: middle;\n",
       "    }\n",
       "\n",
       "    .dataframe tbody tr th {\n",
       "        vertical-align: top;\n",
       "    }\n",
       "\n",
       "    .dataframe thead th {\n",
       "        text-align: right;\n",
       "    }\n",
       "</style>\n",
       "<table border=\"1\" class=\"dataframe\">\n",
       "  <thead>\n",
       "    <tr style=\"text-align: right;\">\n",
       "      <th></th>\n",
       "      <th>Neutral</th>\n",
       "      <th>Warm</th>\n",
       "      <th>Folk/Traditional</th>\n",
       "      <th>Hip hop</th>\n",
       "      <th>Jazz/Blues</th>\n",
       "      <th>Pop</th>\n",
       "      <th>R&amp;B and soul</th>\n",
       "      <th>Rock</th>\n",
       "      <th>Coca Cola/Pepsi</th>\n",
       "      <th>Fanta</th>\n",
       "      <th>Other</th>\n",
       "      <th>M</th>\n",
       "    </tr>\n",
       "  </thead>\n",
       "  <tbody>\n",
       "    <tr>\n",
       "      <th>0</th>\n",
       "      <td>1</td>\n",
       "      <td>0</td>\n",
       "      <td>0</td>\n",
       "      <td>1</td>\n",
       "      <td>0</td>\n",
       "      <td>0</td>\n",
       "      <td>0</td>\n",
       "      <td>0</td>\n",
       "      <td>1</td>\n",
       "      <td>0</td>\n",
       "      <td>0</td>\n",
       "      <td>0</td>\n",
       "    </tr>\n",
       "    <tr>\n",
       "      <th>1</th>\n",
       "      <td>0</td>\n",
       "      <td>1</td>\n",
       "      <td>0</td>\n",
       "      <td>0</td>\n",
       "      <td>0</td>\n",
       "      <td>0</td>\n",
       "      <td>0</td>\n",
       "      <td>1</td>\n",
       "      <td>1</td>\n",
       "      <td>0</td>\n",
       "      <td>0</td>\n",
       "      <td>0</td>\n",
       "    </tr>\n",
       "    <tr>\n",
       "      <th>2</th>\n",
       "      <td>0</td>\n",
       "      <td>1</td>\n",
       "      <td>1</td>\n",
       "      <td>0</td>\n",
       "      <td>0</td>\n",
       "      <td>0</td>\n",
       "      <td>0</td>\n",
       "      <td>0</td>\n",
       "      <td>0</td>\n",
       "      <td>1</td>\n",
       "      <td>0</td>\n",
       "      <td>0</td>\n",
       "    </tr>\n",
       "    <tr>\n",
       "      <th>3</th>\n",
       "      <td>0</td>\n",
       "      <td>0</td>\n",
       "      <td>0</td>\n",
       "      <td>0</td>\n",
       "      <td>0</td>\n",
       "      <td>0</td>\n",
       "      <td>0</td>\n",
       "      <td>1</td>\n",
       "      <td>1</td>\n",
       "      <td>0</td>\n",
       "      <td>0</td>\n",
       "      <td>0</td>\n",
       "    </tr>\n",
       "    <tr>\n",
       "      <th>4</th>\n",
       "      <td>0</td>\n",
       "      <td>1</td>\n",
       "      <td>0</td>\n",
       "      <td>0</td>\n",
       "      <td>1</td>\n",
       "      <td>0</td>\n",
       "      <td>0</td>\n",
       "      <td>0</td>\n",
       "      <td>0</td>\n",
       "      <td>1</td>\n",
       "      <td>0</td>\n",
       "      <td>0</td>\n",
       "    </tr>\n",
       "    <tr>\n",
       "      <th>...</th>\n",
       "      <td>...</td>\n",
       "      <td>...</td>\n",
       "      <td>...</td>\n",
       "      <td>...</td>\n",
       "      <td>...</td>\n",
       "      <td>...</td>\n",
       "      <td>...</td>\n",
       "      <td>...</td>\n",
       "      <td>...</td>\n",
       "      <td>...</td>\n",
       "      <td>...</td>\n",
       "      <td>...</td>\n",
       "    </tr>\n",
       "    <tr>\n",
       "      <th>61</th>\n",
       "      <td>0</td>\n",
       "      <td>0</td>\n",
       "      <td>0</td>\n",
       "      <td>1</td>\n",
       "      <td>0</td>\n",
       "      <td>0</td>\n",
       "      <td>0</td>\n",
       "      <td>0</td>\n",
       "      <td>1</td>\n",
       "      <td>0</td>\n",
       "      <td>0</td>\n",
       "      <td>1</td>\n",
       "    </tr>\n",
       "    <tr>\n",
       "      <th>62</th>\n",
       "      <td>0</td>\n",
       "      <td>0</td>\n",
       "      <td>0</td>\n",
       "      <td>0</td>\n",
       "      <td>0</td>\n",
       "      <td>0</td>\n",
       "      <td>0</td>\n",
       "      <td>1</td>\n",
       "      <td>0</td>\n",
       "      <td>0</td>\n",
       "      <td>1</td>\n",
       "      <td>1</td>\n",
       "    </tr>\n",
       "    <tr>\n",
       "      <th>63</th>\n",
       "      <td>0</td>\n",
       "      <td>0</td>\n",
       "      <td>0</td>\n",
       "      <td>1</td>\n",
       "      <td>0</td>\n",
       "      <td>0</td>\n",
       "      <td>0</td>\n",
       "      <td>0</td>\n",
       "      <td>0</td>\n",
       "      <td>0</td>\n",
       "      <td>1</td>\n",
       "      <td>1</td>\n",
       "    </tr>\n",
       "    <tr>\n",
       "      <th>64</th>\n",
       "      <td>0</td>\n",
       "      <td>0</td>\n",
       "      <td>0</td>\n",
       "      <td>0</td>\n",
       "      <td>0</td>\n",
       "      <td>0</td>\n",
       "      <td>0</td>\n",
       "      <td>0</td>\n",
       "      <td>0</td>\n",
       "      <td>1</td>\n",
       "      <td>0</td>\n",
       "      <td>1</td>\n",
       "    </tr>\n",
       "    <tr>\n",
       "      <th>65</th>\n",
       "      <td>0</td>\n",
       "      <td>1</td>\n",
       "      <td>0</td>\n",
       "      <td>0</td>\n",
       "      <td>0</td>\n",
       "      <td>0</td>\n",
       "      <td>0</td>\n",
       "      <td>0</td>\n",
       "      <td>0</td>\n",
       "      <td>1</td>\n",
       "      <td>0</td>\n",
       "      <td>1</td>\n",
       "    </tr>\n",
       "  </tbody>\n",
       "</table>\n",
       "<p>66 rows × 12 columns</p>\n",
       "</div>"
      ],
      "text/plain": [
       "    Neutral  Warm  Folk/Traditional  Hip hop  Jazz/Blues  Pop  R&B and soul  \\\n",
       "0         1     0                 0        1           0    0             0   \n",
       "1         0     1                 0        0           0    0             0   \n",
       "2         0     1                 1        0           0    0             0   \n",
       "3         0     0                 0        0           0    0             0   \n",
       "4         0     1                 0        0           1    0             0   \n",
       "..      ...   ...               ...      ...         ...  ...           ...   \n",
       "61        0     0                 0        1           0    0             0   \n",
       "62        0     0                 0        0           0    0             0   \n",
       "63        0     0                 0        1           0    0             0   \n",
       "64        0     0                 0        0           0    0             0   \n",
       "65        0     1                 0        0           0    0             0   \n",
       "\n",
       "    Rock  Coca Cola/Pepsi  Fanta  Other  M  \n",
       "0      0                1      0      0  0  \n",
       "1      1                1      0      0  0  \n",
       "2      0                0      1      0  0  \n",
       "3      1                1      0      0  0  \n",
       "4      0                0      1      0  0  \n",
       "..   ...              ...    ...    ... ..  \n",
       "61     0                1      0      0  1  \n",
       "62     1                0      0      1  1  \n",
       "63     0                0      0      1  1  \n",
       "64     0                0      1      0  1  \n",
       "65     0                0      1      0  1  \n",
       "\n",
       "[66 rows x 12 columns]"
      ]
     },
     "execution_count": 302,
     "metadata": {},
     "output_type": "execute_result"
    }
   ],
   "source": [
    "df2"
   ]
  },
  {
   "cell_type": "code",
   "execution_count": 305,
   "id": "efcaa8b4",
   "metadata": {},
   "outputs": [],
   "source": [
    "from sklearn.model_selection import train_test_split\n",
    "\n",
    "x=df2.drop('M',axis=1)\n",
    "y=df2['M']\n",
    "\n",
    "x_train,x_test,y_train,y_test=train_test_split(x,y,test_size=0.2,random_state=101)"
   ]
  },
  {
   "cell_type": "code",
   "execution_count": 308,
   "id": "168962cf",
   "metadata": {},
   "outputs": [],
   "source": [
    "model2_score=[]"
   ]
  },
  {
   "cell_type": "code",
   "execution_count": 309,
   "id": "7e1cd566",
   "metadata": {},
   "outputs": [],
   "source": [
    "classification_model=[\n",
    "    ('lr',LogisticRegression()),\n",
    "    ('knn',KNeighborsClassifier()),\n",
    "    ('svm',SVC()),\n",
    "    ('rf',RandomForestClassifier()),\n",
    "    ('naive',MultinomialNB()),\n",
    "    ('gbm',GradientBoostingClassifier()),\n",
    "    ('ada',AdaBoostClassifier()),\n",
    "    ('xgb',XGBClassifier(eval_metric='mlogloss'))\n",
    "]"
   ]
  },
  {
   "cell_type": "code",
   "execution_count": 325,
   "id": "b6db02f2",
   "metadata": {},
   "outputs": [
    {
     "data": {
      "text/plain": [
       "52"
      ]
     },
     "execution_count": 325,
     "metadata": {},
     "output_type": "execute_result"
    }
   ],
   "source": [
    "   len(x_train)"
   ]
  },
  {
   "cell_type": "code",
   "execution_count": 322,
   "id": "6d0d1cb1",
   "metadata": {},
   "outputs": [
    {
     "name": "stdout",
     "output_type": "stream",
     "text": [
      "lr mode accuracy score is : 0.5\n",
      "              precision    recall  f1-score   support\n",
      "\n",
      "           0       0.60      0.67      0.63         9\n",
      "           1       0.25      0.20      0.22         5\n",
      "\n",
      "    accuracy                           0.50        14\n",
      "   macro avg       0.42      0.43      0.43        14\n",
      "weighted avg       0.47      0.50      0.49        14\n",
      "\n",
      "knn mode accuracy score is : 0.42857142857142855\n",
      "              precision    recall  f1-score   support\n",
      "\n",
      "           0       0.55      0.67      0.60         9\n",
      "           1       0.00      0.00      0.00         5\n",
      "\n",
      "    accuracy                           0.43        14\n",
      "   macro avg       0.27      0.33      0.30        14\n",
      "weighted avg       0.35      0.43      0.39        14\n",
      "\n",
      "svm mode accuracy score is : 0.42857142857142855\n",
      "              precision    recall  f1-score   support\n",
      "\n",
      "           0       0.55      0.67      0.60         9\n",
      "           1       0.00      0.00      0.00         5\n",
      "\n",
      "    accuracy                           0.43        14\n",
      "   macro avg       0.27      0.33      0.30        14\n",
      "weighted avg       0.35      0.43      0.39        14\n",
      "\n",
      "rf mode accuracy score is : 0.42857142857142855\n",
      "              precision    recall  f1-score   support\n",
      "\n",
      "           0       0.55      0.67      0.60         9\n",
      "           1       0.00      0.00      0.00         5\n",
      "\n",
      "    accuracy                           0.43        14\n",
      "   macro avg       0.27      0.33      0.30        14\n",
      "weighted avg       0.35      0.43      0.39        14\n",
      "\n",
      "naive mode accuracy score is : 0.42857142857142855\n",
      "              precision    recall  f1-score   support\n",
      "\n",
      "           0       0.56      0.56      0.56         9\n",
      "           1       0.20      0.20      0.20         5\n",
      "\n",
      "    accuracy                           0.43        14\n",
      "   macro avg       0.38      0.38      0.38        14\n",
      "weighted avg       0.43      0.43      0.43        14\n",
      "\n",
      "gbm mode accuracy score is : 0.5\n",
      "              precision    recall  f1-score   support\n",
      "\n",
      "           0       0.60      0.67      0.63         9\n",
      "           1       0.25      0.20      0.22         5\n",
      "\n",
      "    accuracy                           0.50        14\n",
      "   macro avg       0.42      0.43      0.43        14\n",
      "weighted avg       0.47      0.50      0.49        14\n",
      "\n",
      "ada mode accuracy score is : 0.42857142857142855\n",
      "              precision    recall  f1-score   support\n",
      "\n",
      "           0       0.56      0.56      0.56         9\n",
      "           1       0.20      0.20      0.20         5\n",
      "\n",
      "    accuracy                           0.43        14\n",
      "   macro avg       0.38      0.38      0.38        14\n",
      "weighted avg       0.43      0.43      0.43        14\n",
      "\n",
      "xgb mode accuracy score is : 0.42857142857142855\n",
      "              precision    recall  f1-score   support\n",
      "\n",
      "           0       0.55      0.67      0.60         9\n",
      "           1       0.00      0.00      0.00         5\n",
      "\n",
      "    accuracy                           0.43        14\n",
      "   macro avg       0.27      0.33      0.30        14\n",
      "weighted avg       0.35      0.43      0.39        14\n",
      "\n"
     ]
    }
   ],
   "source": [
    "for name,model in classification_model:\n",
    "    model.fit(x_train,y_train)\n",
    "    prediction=model.predict(x_test)\n",
    "    avg_score=accuracy_score(y_test,prediction)\n",
    "    print(name,'mode accuracy score is : {}'.format(avg_score))\n",
    "    print(classification_report(y_test,prediction))\n",
    "    "
   ]
  },
  {
   "cell_type": "markdown",
   "id": "d05fd791",
   "metadata": {},
   "source": [
    "Looks like most model are not really doing well with the classic train test split"
   ]
  },
  {
   "cell_type": "code",
   "execution_count": 317,
   "id": "4ad31ed0",
   "metadata": {},
   "outputs": [
    {
     "data": {
      "text/html": [
       "<div>\n",
       "<style scoped>\n",
       "    .dataframe tbody tr th:only-of-type {\n",
       "        vertical-align: middle;\n",
       "    }\n",
       "\n",
       "    .dataframe tbody tr th {\n",
       "        vertical-align: top;\n",
       "    }\n",
       "\n",
       "    .dataframe thead tr th {\n",
       "        text-align: left;\n",
       "    }\n",
       "</style>\n",
       "<table border=\"1\" class=\"dataframe\">\n",
       "  <thead>\n",
       "    <tr>\n",
       "      <th></th>\n",
       "      <th>accuracy score without K Fold validation</th>\n",
       "    </tr>\n",
       "  </thead>\n",
       "  <tbody>\n",
       "    <tr>\n",
       "      <th>lr</th>\n",
       "      <td>0.500000</td>\n",
       "    </tr>\n",
       "    <tr>\n",
       "      <th>knn</th>\n",
       "      <td>0.428571</td>\n",
       "    </tr>\n",
       "    <tr>\n",
       "      <th>svm</th>\n",
       "      <td>0.428571</td>\n",
       "    </tr>\n",
       "    <tr>\n",
       "      <th>rf</th>\n",
       "      <td>0.428571</td>\n",
       "    </tr>\n",
       "    <tr>\n",
       "      <th>naive</th>\n",
       "      <td>0.428571</td>\n",
       "    </tr>\n",
       "    <tr>\n",
       "      <th>gbm</th>\n",
       "      <td>0.500000</td>\n",
       "    </tr>\n",
       "    <tr>\n",
       "      <th>ada</th>\n",
       "      <td>0.428571</td>\n",
       "    </tr>\n",
       "    <tr>\n",
       "      <th>xgb</th>\n",
       "      <td>0.428571</td>\n",
       "    </tr>\n",
       "  </tbody>\n",
       "</table>\n",
       "</div>"
      ],
      "text/plain": [
       "      accuracy score without K Fold validation\n",
       "lr                                    0.500000\n",
       "knn                                   0.428571\n",
       "svm                                   0.428571\n",
       "rf                                    0.428571\n",
       "naive                                 0.428571\n",
       "gbm                                   0.500000\n",
       "ada                                   0.428571\n",
       "xgb                                   0.428571"
      ]
     },
     "execution_count": 317,
     "metadata": {},
     "output_type": "execute_result"
    }
   ],
   "source": [
    "model2_score=pd.DataFrame(model2_score)\n",
    "model2_score.index=[['lr','knn','svm','rf','naive','gbm','ada','xgb']]\n",
    "model2_score.columns=[['accuracy score without K Fold validation']]\n",
    "model2_score"
   ]
  },
  {
   "cell_type": "code",
   "execution_count": 327,
   "id": "af90bded",
   "metadata": {},
   "outputs": [],
   "source": [
    "df2.to_csv('df2.csv')"
   ]
  },
  {
   "cell_type": "code",
   "execution_count": 361,
   "id": "c7abc840",
   "metadata": {},
   "outputs": [],
   "source": [
    "cv=KFold(10)\n",
    "mean_cross_val2=[]\n",
    "mean_cross_val2_2=[]"
   ]
  },
  {
   "cell_type": "code",
   "execution_count": 330,
   "id": "395f3d64",
   "metadata": {},
   "outputs": [],
   "source": [
    "X=df2.drop('M',axis=1)\n",
    "Y=df2['M']"
   ]
  },
  {
   "cell_type": "code",
   "execution_count": 362,
   "id": "64231261",
   "metadata": {},
   "outputs": [
    {
     "name": "stdout",
     "output_type": "stream",
     "text": [
      "lr mode accuracy score is : [0.42857143 0.42857143 0.57142857 0.28571429 0.71428571 0.57142857\n",
      " 0.66666667 0.83333333 0.5        0.16666667]\n",
      "knn mode accuracy score is : [0.42857143 0.57142857 0.71428571 0.85714286 0.42857143 0.42857143\n",
      " 0.66666667 0.33333333 0.66666667 0.66666667]\n",
      "svm mode accuracy score is : [0.71428571 0.71428571 0.42857143 0.57142857 0.28571429 0.57142857\n",
      " 0.16666667 0.5        0.5        0.5       ]\n",
      "rf mode accuracy score is : [0.14285714 0.42857143 0.28571429 0.14285714 0.85714286 0.85714286\n",
      " 0.66666667 0.5        0.66666667 0.33333333]\n",
      "naive mode accuracy score is : [0.42857143 0.42857143 0.42857143 0.42857143 0.57142857 0.57142857\n",
      " 0.5        0.83333333 0.66666667 0.5       ]\n",
      "gbm mode accuracy score is : [0.42857143 0.28571429 0.28571429 0.14285714 0.85714286 0.42857143\n",
      " 0.66666667 0.66666667 0.66666667 0.66666667]\n",
      "ada mode accuracy score is : [0.14285714 0.57142857 0.85714286 0.85714286 0.42857143 0.57142857\n",
      " 0.5        0.5        0.33333333 0.5       ]\n",
      "xgb mode accuracy score is : [0.42857143 0.28571429 0.42857143 0.28571429 0.85714286 0.57142857\n",
      " 0.16666667 0.5        0.5        0.66666667]\n"
     ]
    }
   ],
   "source": [
    "for name,model in classification_model:\n",
    "    cv_result=cross_val_score(model,X=X,y=Y,cv=cv,scoring='accuracy')\n",
    "    print(name,'mode accuracy score is : {}'.format(cv_result))\n",
    "    shuffle.append(np.mean(cv_result))"
   ]
  },
  {
   "cell_type": "code",
   "execution_count": 339,
   "id": "00f4331e",
   "metadata": {},
   "outputs": [
    {
     "data": {
      "text/html": [
       "<div>\n",
       "<style scoped>\n",
       "    .dataframe tbody tr th:only-of-type {\n",
       "        vertical-align: middle;\n",
       "    }\n",
       "\n",
       "    .dataframe tbody tr th {\n",
       "        vertical-align: top;\n",
       "    }\n",
       "\n",
       "    .dataframe thead tr th {\n",
       "        text-align: left;\n",
       "    }\n",
       "</style>\n",
       "<table border=\"1\" class=\"dataframe\">\n",
       "  <thead>\n",
       "    <tr>\n",
       "      <th></th>\n",
       "      <th>accuracy score with cross validation</th>\n",
       "    </tr>\n",
       "  </thead>\n",
       "  <tbody>\n",
       "    <tr>\n",
       "      <th>lr</th>\n",
       "      <td>0.445238</td>\n",
       "    </tr>\n",
       "    <tr>\n",
       "      <th>knn</th>\n",
       "      <td>0.483333</td>\n",
       "    </tr>\n",
       "    <tr>\n",
       "      <th>svm</th>\n",
       "      <td>0.369048</td>\n",
       "    </tr>\n",
       "    <tr>\n",
       "      <th>rf</th>\n",
       "      <td>0.447619</td>\n",
       "    </tr>\n",
       "    <tr>\n",
       "      <th>naive</th>\n",
       "      <td>0.440476</td>\n",
       "    </tr>\n",
       "    <tr>\n",
       "      <th>gbm</th>\n",
       "      <td>0.430952</td>\n",
       "    </tr>\n",
       "    <tr>\n",
       "      <th>ada</th>\n",
       "      <td>0.490476</td>\n",
       "    </tr>\n",
       "    <tr>\n",
       "      <th>xgb</th>\n",
       "      <td>0.416667</td>\n",
       "    </tr>\n",
       "  </tbody>\n",
       "</table>\n",
       "</div>"
      ],
      "text/plain": [
       "      accuracy score with cross validation\n",
       "lr                                0.445238\n",
       "knn                               0.483333\n",
       "svm                               0.369048\n",
       "rf                                0.447619\n",
       "naive                             0.440476\n",
       "gbm                               0.430952\n",
       "ada                               0.490476\n",
       "xgb                               0.416667"
      ]
     },
     "execution_count": 339,
     "metadata": {},
     "output_type": "execute_result"
    }
   ],
   "source": [
    "mean_cross_val2=pd.DataFrame(mean_cross_val2)\n",
    "mean_cross_val2.index=[['lr','knn','svm','rf','naive','gbm','ada','xgb']]\n",
    "mean_cross_val2.columns=[['accuracy score with cross validation']]\n",
    "mean_cross_val2"
   ]
  },
  {
   "cell_type": "markdown",
   "id": "028a3544",
   "metadata": {},
   "source": [
    "Looks here like with cross validation, Ada boosting model perform the best.\n",
    "\n",
    "Even when we shuffled the cross validation, Ada boosting looks more consistent"
   ]
  },
  {
   "cell_type": "code",
   "execution_count": 342,
   "id": "12a5c05b",
   "metadata": {},
   "outputs": [
    {
     "data": {
      "text/html": [
       "<div>\n",
       "<style scoped>\n",
       "    .dataframe tbody tr th:only-of-type {\n",
       "        vertical-align: middle;\n",
       "    }\n",
       "\n",
       "    .dataframe tbody tr th {\n",
       "        vertical-align: top;\n",
       "    }\n",
       "\n",
       "    .dataframe thead tr th {\n",
       "        text-align: left;\n",
       "    }\n",
       "</style>\n",
       "<table border=\"1\" class=\"dataframe\">\n",
       "  <thead>\n",
       "    <tr>\n",
       "      <th></th>\n",
       "      <th>accuracy score without K Fold validation</th>\n",
       "      <th>accuracy score with cross validation</th>\n",
       "    </tr>\n",
       "  </thead>\n",
       "  <tbody>\n",
       "    <tr>\n",
       "      <th>lr</th>\n",
       "      <td>0.500000</td>\n",
       "      <td>0.445238</td>\n",
       "    </tr>\n",
       "    <tr>\n",
       "      <th>knn</th>\n",
       "      <td>0.428571</td>\n",
       "      <td>0.483333</td>\n",
       "    </tr>\n",
       "    <tr>\n",
       "      <th>svm</th>\n",
       "      <td>0.428571</td>\n",
       "      <td>0.369048</td>\n",
       "    </tr>\n",
       "    <tr>\n",
       "      <th>rf</th>\n",
       "      <td>0.428571</td>\n",
       "      <td>0.447619</td>\n",
       "    </tr>\n",
       "    <tr>\n",
       "      <th>naive</th>\n",
       "      <td>0.428571</td>\n",
       "      <td>0.440476</td>\n",
       "    </tr>\n",
       "    <tr>\n",
       "      <th>gbm</th>\n",
       "      <td>0.500000</td>\n",
       "      <td>0.430952</td>\n",
       "    </tr>\n",
       "    <tr>\n",
       "      <th>ada</th>\n",
       "      <td>0.428571</td>\n",
       "      <td>0.490476</td>\n",
       "    </tr>\n",
       "    <tr>\n",
       "      <th>xgb</th>\n",
       "      <td>0.428571</td>\n",
       "      <td>0.416667</td>\n",
       "    </tr>\n",
       "  </tbody>\n",
       "</table>\n",
       "</div>"
      ],
      "text/plain": [
       "      accuracy score without K Fold validation  \\\n",
       "lr                                    0.500000   \n",
       "knn                                   0.428571   \n",
       "svm                                   0.428571   \n",
       "rf                                    0.428571   \n",
       "naive                                 0.428571   \n",
       "gbm                                   0.500000   \n",
       "ada                                   0.428571   \n",
       "xgb                                   0.428571   \n",
       "\n",
       "      accuracy score with cross validation  \n",
       "lr                                0.445238  \n",
       "knn                               0.483333  \n",
       "svm                               0.369048  \n",
       "rf                                0.447619  \n",
       "naive                             0.440476  \n",
       "gbm                               0.430952  \n",
       "ada                               0.490476  \n",
       "xgb                               0.416667  "
      ]
     },
     "execution_count": 342,
     "metadata": {},
     "output_type": "execute_result"
    }
   ],
   "source": [
    "model2_scores=pd.concat([model2_score,mean_cross_val2],axis=1)\n",
    "model2_scores"
   ]
  },
  {
   "cell_type": "markdown",
   "id": "7f553ac7",
   "metadata": {},
   "source": [
    "# Conclusion: we will only use the first model to deploy because our second model does not have a consistent score for any model"
   ]
  },
  {
   "cell_type": "code",
   "execution_count": 2,
   "id": "c05008be",
   "metadata": {},
   "outputs": [],
   "source": [
    "import joblib\n",
    "\n",
    "testing=joblib.load('model1')\n",
    "testing.predict(df.iloc[1])"
   ]
  },
  {
   "cell_type": "code",
   "execution_count": 7,
   "id": "c228c7c5",
   "metadata": {},
   "outputs": [
    {
     "ename": "ValueError",
     "evalue": "Expected 2D array, got 1D array instead:\narray=[ 0.  14.   5.4  0.   0.   1.   0.   0. ].\nReshape your data either using array.reshape(-1, 1) if your data has a single feature or array.reshape(1, -1) if it contains a single sample.",
     "output_type": "error",
     "traceback": [
      "\u001b[1;31m---------------------------------------------------------------------------\u001b[0m",
      "\u001b[1;31mValueError\u001b[0m                                Traceback (most recent call last)",
      "\u001b[1;32m<ipython-input-7-981adcbab26c>\u001b[0m in \u001b[0;36m<module>\u001b[1;34m\u001b[0m\n\u001b[1;32m----> 1\u001b[1;33m \u001b[0mtesting\u001b[0m\u001b[1;33m.\u001b[0m\u001b[0mpredict\u001b[0m\u001b[1;33m(\u001b[0m\u001b[0mdf1\u001b[0m\u001b[1;33m.\u001b[0m\u001b[0miloc\u001b[0m\u001b[1;33m[\u001b[0m\u001b[1;36m1\u001b[0m\u001b[1;33m]\u001b[0m\u001b[1;33m)\u001b[0m\u001b[1;33m\u001b[0m\u001b[1;33m\u001b[0m\u001b[0m\n\u001b[0m",
      "\u001b[1;32mc:\\users\\aliff\\appdata\\local\\programs\\python\\python39\\lib\\site-packages\\sklearn\\ensemble\\_gb.py\u001b[0m in \u001b[0;36mpredict\u001b[1;34m(self, X)\u001b[0m\n\u001b[0;32m   1186\u001b[0m             \u001b[0mThe\u001b[0m \u001b[0mpredicted\u001b[0m \u001b[0mvalues\u001b[0m\u001b[1;33m.\u001b[0m\u001b[1;33m\u001b[0m\u001b[1;33m\u001b[0m\u001b[0m\n\u001b[0;32m   1187\u001b[0m         \"\"\"\n\u001b[1;32m-> 1188\u001b[1;33m         \u001b[0mraw_predictions\u001b[0m \u001b[1;33m=\u001b[0m \u001b[0mself\u001b[0m\u001b[1;33m.\u001b[0m\u001b[0mdecision_function\u001b[0m\u001b[1;33m(\u001b[0m\u001b[0mX\u001b[0m\u001b[1;33m)\u001b[0m\u001b[1;33m\u001b[0m\u001b[1;33m\u001b[0m\u001b[0m\n\u001b[0m\u001b[0;32m   1189\u001b[0m         \u001b[0mencoded_labels\u001b[0m \u001b[1;33m=\u001b[0m\u001b[0;31m \u001b[0m\u001b[0;31m\\\u001b[0m\u001b[1;33m\u001b[0m\u001b[1;33m\u001b[0m\u001b[0m\n\u001b[0;32m   1190\u001b[0m             \u001b[0mself\u001b[0m\u001b[1;33m.\u001b[0m\u001b[0mloss_\u001b[0m\u001b[1;33m.\u001b[0m\u001b[0m_raw_prediction_to_decision\u001b[0m\u001b[1;33m(\u001b[0m\u001b[0mraw_predictions\u001b[0m\u001b[1;33m)\u001b[0m\u001b[1;33m\u001b[0m\u001b[1;33m\u001b[0m\u001b[0m\n",
      "\u001b[1;32mc:\\users\\aliff\\appdata\\local\\programs\\python\\python39\\lib\\site-packages\\sklearn\\ensemble\\_gb.py\u001b[0m in \u001b[0;36mdecision_function\u001b[1;34m(self, X)\u001b[0m\n\u001b[0;32m   1141\u001b[0m             \u001b[0marray\u001b[0m \u001b[0mof\u001b[0m \u001b[0mshape\u001b[0m \u001b[1;33m(\u001b[0m\u001b[0mn_samples\u001b[0m\u001b[1;33m,\u001b[0m\u001b[1;33m)\u001b[0m\u001b[1;33m.\u001b[0m\u001b[1;33m\u001b[0m\u001b[1;33m\u001b[0m\u001b[0m\n\u001b[0;32m   1142\u001b[0m         \"\"\"\n\u001b[1;32m-> 1143\u001b[1;33m         \u001b[0mX\u001b[0m \u001b[1;33m=\u001b[0m \u001b[0mcheck_array\u001b[0m\u001b[1;33m(\u001b[0m\u001b[0mX\u001b[0m\u001b[1;33m,\u001b[0m \u001b[0mdtype\u001b[0m\u001b[1;33m=\u001b[0m\u001b[0mDTYPE\u001b[0m\u001b[1;33m,\u001b[0m \u001b[0morder\u001b[0m\u001b[1;33m=\u001b[0m\u001b[1;34m\"C\"\u001b[0m\u001b[1;33m,\u001b[0m \u001b[0maccept_sparse\u001b[0m\u001b[1;33m=\u001b[0m\u001b[1;34m'csr'\u001b[0m\u001b[1;33m)\u001b[0m\u001b[1;33m\u001b[0m\u001b[1;33m\u001b[0m\u001b[0m\n\u001b[0m\u001b[0;32m   1144\u001b[0m         \u001b[0mraw_predictions\u001b[0m \u001b[1;33m=\u001b[0m \u001b[0mself\u001b[0m\u001b[1;33m.\u001b[0m\u001b[0m_raw_predict\u001b[0m\u001b[1;33m(\u001b[0m\u001b[0mX\u001b[0m\u001b[1;33m)\u001b[0m\u001b[1;33m\u001b[0m\u001b[1;33m\u001b[0m\u001b[0m\n\u001b[0;32m   1145\u001b[0m         \u001b[1;32mif\u001b[0m \u001b[0mraw_predictions\u001b[0m\u001b[1;33m.\u001b[0m\u001b[0mshape\u001b[0m\u001b[1;33m[\u001b[0m\u001b[1;36m1\u001b[0m\u001b[1;33m]\u001b[0m \u001b[1;33m==\u001b[0m \u001b[1;36m1\u001b[0m\u001b[1;33m:\u001b[0m\u001b[1;33m\u001b[0m\u001b[1;33m\u001b[0m\u001b[0m\n",
      "\u001b[1;32mc:\\users\\aliff\\appdata\\local\\programs\\python\\python39\\lib\\site-packages\\sklearn\\utils\\validation.py\u001b[0m in \u001b[0;36minner_f\u001b[1;34m(*args, **kwargs)\u001b[0m\n\u001b[0;32m     61\u001b[0m             \u001b[0mextra_args\u001b[0m \u001b[1;33m=\u001b[0m \u001b[0mlen\u001b[0m\u001b[1;33m(\u001b[0m\u001b[0margs\u001b[0m\u001b[1;33m)\u001b[0m \u001b[1;33m-\u001b[0m \u001b[0mlen\u001b[0m\u001b[1;33m(\u001b[0m\u001b[0mall_args\u001b[0m\u001b[1;33m)\u001b[0m\u001b[1;33m\u001b[0m\u001b[1;33m\u001b[0m\u001b[0m\n\u001b[0;32m     62\u001b[0m             \u001b[1;32mif\u001b[0m \u001b[0mextra_args\u001b[0m \u001b[1;33m<=\u001b[0m \u001b[1;36m0\u001b[0m\u001b[1;33m:\u001b[0m\u001b[1;33m\u001b[0m\u001b[1;33m\u001b[0m\u001b[0m\n\u001b[1;32m---> 63\u001b[1;33m                 \u001b[1;32mreturn\u001b[0m \u001b[0mf\u001b[0m\u001b[1;33m(\u001b[0m\u001b[1;33m*\u001b[0m\u001b[0margs\u001b[0m\u001b[1;33m,\u001b[0m \u001b[1;33m**\u001b[0m\u001b[0mkwargs\u001b[0m\u001b[1;33m)\u001b[0m\u001b[1;33m\u001b[0m\u001b[1;33m\u001b[0m\u001b[0m\n\u001b[0m\u001b[0;32m     64\u001b[0m \u001b[1;33m\u001b[0m\u001b[0m\n\u001b[0;32m     65\u001b[0m             \u001b[1;31m# extra_args > 0\u001b[0m\u001b[1;33m\u001b[0m\u001b[1;33m\u001b[0m\u001b[1;33m\u001b[0m\u001b[0m\n",
      "\u001b[1;32mc:\\users\\aliff\\appdata\\local\\programs\\python\\python39\\lib\\site-packages\\sklearn\\utils\\validation.py\u001b[0m in \u001b[0;36mcheck_array\u001b[1;34m(array, accept_sparse, accept_large_sparse, dtype, order, copy, force_all_finite, ensure_2d, allow_nd, ensure_min_samples, ensure_min_features, estimator)\u001b[0m\n\u001b[0;32m    692\u001b[0m             \u001b[1;31m# If input is 1D raise error\u001b[0m\u001b[1;33m\u001b[0m\u001b[1;33m\u001b[0m\u001b[1;33m\u001b[0m\u001b[0m\n\u001b[0;32m    693\u001b[0m             \u001b[1;32mif\u001b[0m \u001b[0marray\u001b[0m\u001b[1;33m.\u001b[0m\u001b[0mndim\u001b[0m \u001b[1;33m==\u001b[0m \u001b[1;36m1\u001b[0m\u001b[1;33m:\u001b[0m\u001b[1;33m\u001b[0m\u001b[1;33m\u001b[0m\u001b[0m\n\u001b[1;32m--> 694\u001b[1;33m                 raise ValueError(\n\u001b[0m\u001b[0;32m    695\u001b[0m                     \u001b[1;34m\"Expected 2D array, got 1D array instead:\\narray={}.\\n\"\u001b[0m\u001b[1;33m\u001b[0m\u001b[1;33m\u001b[0m\u001b[0m\n\u001b[0;32m    696\u001b[0m                     \u001b[1;34m\"Reshape your data either using array.reshape(-1, 1) if \"\u001b[0m\u001b[1;33m\u001b[0m\u001b[1;33m\u001b[0m\u001b[0m\n",
      "\u001b[1;31mValueError\u001b[0m: Expected 2D array, got 1D array instead:\narray=[ 0.  14.   5.4  0.   0.   1.   0.   0. ].\nReshape your data either using array.reshape(-1, 1) if your data has a single feature or array.reshape(1, -1) if it contains a single sample."
     ]
    }
   ],
   "source": [
    "testing.predict([[1,11.8,6.1,1,0,1,1,]])"
   ]
  },
  {
   "cell_type": "code",
   "execution_count": 4,
   "id": "289df092",
   "metadata": {},
   "outputs": [],
   "source": [
    "df1=pd.read_csv('df1.csv')"
   ]
  },
  {
   "cell_type": "code",
   "execution_count": 5,
   "id": "11b4a5c8",
   "metadata": {},
   "outputs": [
    {
     "data": {
      "text/html": [
       "<div>\n",
       "<style scoped>\n",
       "    .dataframe tbody tr th:only-of-type {\n",
       "        vertical-align: middle;\n",
       "    }\n",
       "\n",
       "    .dataframe tbody tr th {\n",
       "        vertical-align: top;\n",
       "    }\n",
       "\n",
       "    .dataframe thead th {\n",
       "        text-align: right;\n",
       "    }\n",
       "</style>\n",
       "<table border=\"1\" class=\"dataframe\">\n",
       "  <thead>\n",
       "    <tr style=\"text-align: right;\">\n",
       "      <th></th>\n",
       "      <th>long_hair</th>\n",
       "      <th>forehead_width_cm</th>\n",
       "      <th>forehead_height_cm</th>\n",
       "      <th>nose_wide</th>\n",
       "      <th>nose_long</th>\n",
       "      <th>lips_thin</th>\n",
       "      <th>distance_nose_to_lip_long</th>\n",
       "      <th>Male</th>\n",
       "    </tr>\n",
       "  </thead>\n",
       "  <tbody>\n",
       "    <tr>\n",
       "      <th>0</th>\n",
       "      <td>1</td>\n",
       "      <td>11.8</td>\n",
       "      <td>6.1</td>\n",
       "      <td>1</td>\n",
       "      <td>0</td>\n",
       "      <td>1</td>\n",
       "      <td>1</td>\n",
       "      <td>1</td>\n",
       "    </tr>\n",
       "    <tr>\n",
       "      <th>1</th>\n",
       "      <td>0</td>\n",
       "      <td>14.0</td>\n",
       "      <td>5.4</td>\n",
       "      <td>0</td>\n",
       "      <td>0</td>\n",
       "      <td>1</td>\n",
       "      <td>0</td>\n",
       "      <td>0</td>\n",
       "    </tr>\n",
       "    <tr>\n",
       "      <th>2</th>\n",
       "      <td>0</td>\n",
       "      <td>11.8</td>\n",
       "      <td>6.3</td>\n",
       "      <td>1</td>\n",
       "      <td>1</td>\n",
       "      <td>1</td>\n",
       "      <td>1</td>\n",
       "      <td>1</td>\n",
       "    </tr>\n",
       "    <tr>\n",
       "      <th>3</th>\n",
       "      <td>0</td>\n",
       "      <td>14.4</td>\n",
       "      <td>6.1</td>\n",
       "      <td>0</td>\n",
       "      <td>1</td>\n",
       "      <td>1</td>\n",
       "      <td>1</td>\n",
       "      <td>1</td>\n",
       "    </tr>\n",
       "    <tr>\n",
       "      <th>4</th>\n",
       "      <td>1</td>\n",
       "      <td>13.5</td>\n",
       "      <td>5.9</td>\n",
       "      <td>0</td>\n",
       "      <td>0</td>\n",
       "      <td>0</td>\n",
       "      <td>0</td>\n",
       "      <td>0</td>\n",
       "    </tr>\n",
       "    <tr>\n",
       "      <th>...</th>\n",
       "      <td>...</td>\n",
       "      <td>...</td>\n",
       "      <td>...</td>\n",
       "      <td>...</td>\n",
       "      <td>...</td>\n",
       "      <td>...</td>\n",
       "      <td>...</td>\n",
       "      <td>...</td>\n",
       "    </tr>\n",
       "    <tr>\n",
       "      <th>3996</th>\n",
       "      <td>1</td>\n",
       "      <td>11.9</td>\n",
       "      <td>5.7</td>\n",
       "      <td>0</td>\n",
       "      <td>0</td>\n",
       "      <td>0</td>\n",
       "      <td>0</td>\n",
       "      <td>0</td>\n",
       "    </tr>\n",
       "    <tr>\n",
       "      <th>3997</th>\n",
       "      <td>1</td>\n",
       "      <td>13.1</td>\n",
       "      <td>5.7</td>\n",
       "      <td>0</td>\n",
       "      <td>0</td>\n",
       "      <td>0</td>\n",
       "      <td>0</td>\n",
       "      <td>0</td>\n",
       "    </tr>\n",
       "    <tr>\n",
       "      <th>3998</th>\n",
       "      <td>1</td>\n",
       "      <td>13.0</td>\n",
       "      <td>5.9</td>\n",
       "      <td>1</td>\n",
       "      <td>1</td>\n",
       "      <td>1</td>\n",
       "      <td>1</td>\n",
       "      <td>1</td>\n",
       "    </tr>\n",
       "    <tr>\n",
       "      <th>3999</th>\n",
       "      <td>0</td>\n",
       "      <td>13.6</td>\n",
       "      <td>6.3</td>\n",
       "      <td>0</td>\n",
       "      <td>0</td>\n",
       "      <td>0</td>\n",
       "      <td>1</td>\n",
       "      <td>0</td>\n",
       "    </tr>\n",
       "    <tr>\n",
       "      <th>4000</th>\n",
       "      <td>1</td>\n",
       "      <td>15.4</td>\n",
       "      <td>6.1</td>\n",
       "      <td>1</td>\n",
       "      <td>1</td>\n",
       "      <td>1</td>\n",
       "      <td>0</td>\n",
       "      <td>1</td>\n",
       "    </tr>\n",
       "  </tbody>\n",
       "</table>\n",
       "<p>4001 rows × 8 columns</p>\n",
       "</div>"
      ],
      "text/plain": [
       "      long_hair  forehead_width_cm  forehead_height_cm  nose_wide  nose_long  \\\n",
       "0             1               11.8                 6.1          1          0   \n",
       "1             0               14.0                 5.4          0          0   \n",
       "2             0               11.8                 6.3          1          1   \n",
       "3             0               14.4                 6.1          0          1   \n",
       "4             1               13.5                 5.9          0          0   \n",
       "...         ...                ...                 ...        ...        ...   \n",
       "3996          1               11.9                 5.7          0          0   \n",
       "3997          1               13.1                 5.7          0          0   \n",
       "3998          1               13.0                 5.9          1          1   \n",
       "3999          0               13.6                 6.3          0          0   \n",
       "4000          1               15.4                 6.1          1          1   \n",
       "\n",
       "      lips_thin  distance_nose_to_lip_long  Male  \n",
       "0             1                          1     1  \n",
       "1             1                          0     0  \n",
       "2             1                          1     1  \n",
       "3             1                          1     1  \n",
       "4             0                          0     0  \n",
       "...         ...                        ...   ...  \n",
       "3996          0                          0     0  \n",
       "3997          0                          0     0  \n",
       "3998          1                          1     1  \n",
       "3999          0                          1     0  \n",
       "4000          1                          0     1  \n",
       "\n",
       "[4001 rows x 8 columns]"
      ]
     },
     "execution_count": 5,
     "metadata": {},
     "output_type": "execute_result"
    }
   ],
   "source": [
    "df1"
   ]
  },
  {
   "cell_type": "code",
   "execution_count": null,
   "id": "694dc520",
   "metadata": {},
   "outputs": [],
   "source": []
  }
 ],
 "metadata": {
  "kernelspec": {
   "display_name": "Python 3",
   "language": "python",
   "name": "python3"
  },
  "language_info": {
   "codemirror_mode": {
    "name": "ipython",
    "version": 3
   },
   "file_extension": ".py",
   "mimetype": "text/x-python",
   "name": "python",
   "nbconvert_exporter": "python",
   "pygments_lexer": "ipython3",
   "version": "3.9.5"
  }
 },
 "nbformat": 4,
 "nbformat_minor": 5
}
